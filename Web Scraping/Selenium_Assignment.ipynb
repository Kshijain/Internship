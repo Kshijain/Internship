{
 "cells": [
  {
   "cell_type": "code",
   "execution_count": 1,
   "id": "d9053819",
   "metadata": {},
   "outputs": [],
   "source": [
    "import selenium\n",
    "import pandas as pd\n",
    "from selenium import webdriver\n",
    "from selenium.webdriver.chrome.service import Service"
   ]
  },
  {
   "cell_type": "markdown",
   "id": "d6ae4a46",
   "metadata": {},
   "source": [
    "# Q1"
   ]
  },
  {
   "cell_type": "code",
   "execution_count": 6,
   "id": "a6168f06",
   "metadata": {},
   "outputs": [],
   "source": [
    "s = Service('D:/Data_Science/chromedriver_win32/chromedriver.exe')\n",
    "#driver = webdriver.Chrome(r\"D:/Data_Science/chromedriver_win32/chromedriver.exe\")\n",
    "driver = webdriver.Chrome(service=s)"
   ]
  },
  {
   "cell_type": "code",
   "execution_count": 7,
   "id": "7f65cabd",
   "metadata": {},
   "outputs": [],
   "source": [
    "#Getting the Webpage\n",
    "driver.get('https://www.naukri.com/')"
   ]
  },
  {
   "cell_type": "code",
   "execution_count": 8,
   "id": "0d94d2d0",
   "metadata": {},
   "outputs": [
    {
     "name": "stderr",
     "output_type": "stream",
     "text": [
      "C:\\Users\\DELLUS~1\\AppData\\Local\\Temp/ipykernel_7712/1879962732.py:2: DeprecationWarning: find_element_by_* commands are deprecated. Please use find_element() instead\n",
      "  search_job = driver.find_element_by_id('qsb-keyword-sugg')\n",
      "C:\\Users\\DELLUS~1\\AppData\\Local\\Temp/ipykernel_7712/1879962732.py:4: DeprecationWarning: find_element_by_* commands are deprecated. Please use find_element() instead\n",
      "  search_loc = driver.find_element_by_xpath(\"//input[@id='qsb-location-sugg']\")\n"
     ]
    }
   ],
   "source": [
    "#Entering the Skill, Designations, Companies field and location field\n",
    "search_job = driver.find_element_by_id('qsb-keyword-sugg')\n",
    "search_job.send_keys('Data Analyst')\n",
    "search_loc = driver.find_element_by_xpath(\"//input[@id='qsb-location-sugg']\")\n",
    "search_loc.send_keys('Bangalore')"
   ]
  },
  {
   "cell_type": "code",
   "execution_count": 9,
   "id": "9311e2b9",
   "metadata": {},
   "outputs": [
    {
     "name": "stderr",
     "output_type": "stream",
     "text": [
      "C:\\Users\\DELLUS~1\\AppData\\Local\\Temp/ipykernel_7712/409451389.py:1: DeprecationWarning: find_element_by_* commands are deprecated. Please use find_element() instead\n",
      "  search_btn = driver.find_element_by_xpath(\"//div[@class='search-btn']/button\")\n"
     ]
    }
   ],
   "source": [
    "search_btn = driver.find_element_by_xpath(\"//div[@class='search-btn']/button\")\n",
    "search_btn.click()"
   ]
  },
  {
   "cell_type": "code",
   "execution_count": 10,
   "id": "6831503d",
   "metadata": {},
   "outputs": [],
   "source": [
    "#scrapped url from above cmd\n",
    "url = \"https://www.naukri.com/data-analyst-jobs-in-bangalore?k=data%20analyst&l=bangalore\""
   ]
  },
  {
   "cell_type": "code",
   "execution_count": 11,
   "id": "26ac8d84",
   "metadata": {},
   "outputs": [],
   "source": [
    "driver.get(url)"
   ]
  },
  {
   "cell_type": "code",
   "execution_count": 12,
   "id": "462adcfa",
   "metadata": {},
   "outputs": [
    {
     "name": "stderr",
     "output_type": "stream",
     "text": [
      "C:\\Users\\DELLUS~1\\AppData\\Local\\Temp/ipykernel_7712/2378894503.py:2: DeprecationWarning: find_elements_by_* commands are deprecated. Please use find_elements() instead\n",
      "  titles_tags=driver.find_elements_by_xpath(\"//a[@class='title fw500 ellipsis']\")\n"
     ]
    },
    {
     "data": {
      "text/plain": [
       "[<selenium.webdriver.remote.webelement.WebElement (session=\"e5fe2bc2ee83162786da25129613dbbe\", element=\"b6378510-f2ca-43a7-883f-f105fe8ad329\")>,\n",
       " <selenium.webdriver.remote.webelement.WebElement (session=\"e5fe2bc2ee83162786da25129613dbbe\", element=\"b4abfa73-06cd-4892-8c0b-d399ccf1313d\")>,\n",
       " <selenium.webdriver.remote.webelement.WebElement (session=\"e5fe2bc2ee83162786da25129613dbbe\", element=\"02064986-8380-4948-a87a-30b954578461\")>,\n",
       " <selenium.webdriver.remote.webelement.WebElement (session=\"e5fe2bc2ee83162786da25129613dbbe\", element=\"aa8a09d2-3798-4c3d-be49-427d6210f879\")>,\n",
       " <selenium.webdriver.remote.webelement.WebElement (session=\"e5fe2bc2ee83162786da25129613dbbe\", element=\"6bec6980-f46c-4173-8b96-6fc7074a54b5\")>,\n",
       " <selenium.webdriver.remote.webelement.WebElement (session=\"e5fe2bc2ee83162786da25129613dbbe\", element=\"24f67840-74a7-46a7-8772-08c0c9bb54ce\")>,\n",
       " <selenium.webdriver.remote.webelement.WebElement (session=\"e5fe2bc2ee83162786da25129613dbbe\", element=\"02fcbd86-22e0-42ee-bb30-7e9a81b22655\")>,\n",
       " <selenium.webdriver.remote.webelement.WebElement (session=\"e5fe2bc2ee83162786da25129613dbbe\", element=\"a07243c4-1b8f-4974-96a0-703ef0c9a623\")>,\n",
       " <selenium.webdriver.remote.webelement.WebElement (session=\"e5fe2bc2ee83162786da25129613dbbe\", element=\"f4afcf57-a4ca-4d8e-a292-df14a8c4a5b0\")>,\n",
       " <selenium.webdriver.remote.webelement.WebElement (session=\"e5fe2bc2ee83162786da25129613dbbe\", element=\"08e3caa6-5bdc-4359-84e3-a1702c147bca\")>]"
      ]
     },
     "execution_count": 12,
     "metadata": {},
     "output_type": "execute_result"
    }
   ],
   "source": [
    "#Getting title tags details\n",
    "titles_tags=driver.find_elements_by_xpath(\"//a[@class='title fw500 ellipsis']\")\n",
    "titles_tag=titles_tags[0:10]\n",
    "titles_tag"
   ]
  },
  {
   "cell_type": "code",
   "execution_count": 13,
   "id": "ceba52e5",
   "metadata": {},
   "outputs": [],
   "source": [
    "job_titles=[]\n",
    "company_names=[]\n",
    "location_list=[]\n",
    "experience_list=[]"
   ]
  },
  {
   "cell_type": "code",
   "execution_count": 14,
   "id": "62805f82",
   "metadata": {},
   "outputs": [
    {
     "data": {
      "text/plain": [
       "['Hiring -Data Analyst, Business Analyst, MIS Analyst -3rd Party Payroll',\n",
       " 'Senior Data Analyst III',\n",
       " 'Business Analyst/ Data Analyst- Capital Market & SQL (Mandatory)',\n",
       " 'Customer Data Management Analyst',\n",
       " 'Data Analyst',\n",
       " 'Assistant/deputy Manager - Geo-spatial Data Analyst',\n",
       " 'Senior Data Analyst',\n",
       " 'Senior Data Analyst',\n",
       " 'Senior Data Analyst',\n",
       " 'Openings For SQL Data Analyst']"
      ]
     },
     "execution_count": 14,
     "metadata": {},
     "output_type": "execute_result"
    }
   ],
   "source": [
    "#Getting titles\n",
    "for i in titles_tag:\n",
    "    title=i.text\n",
    "    job_titles.append(title)\n",
    "job_titles"
   ]
  },
  {
   "cell_type": "code",
   "execution_count": 15,
   "id": "edad7c19",
   "metadata": {},
   "outputs": [
    {
     "name": "stderr",
     "output_type": "stream",
     "text": [
      "C:\\Users\\DELLUS~1\\AppData\\Local\\Temp/ipykernel_7712/2326937980.py:2: DeprecationWarning: find_elements_by_* commands are deprecated. Please use find_elements() instead\n",
      "  companies_tags=driver.find_elements_by_xpath(\"//a[@class='subTitle ellipsis fleft']\")\n"
     ]
    },
    {
     "data": {
      "text/plain": [
       "[<selenium.webdriver.remote.webelement.WebElement (session=\"e5fe2bc2ee83162786da25129613dbbe\", element=\"de670120-8a60-46d4-b32b-785f405af96f\")>,\n",
       " <selenium.webdriver.remote.webelement.WebElement (session=\"e5fe2bc2ee83162786da25129613dbbe\", element=\"2ea117a1-6f4d-4e4a-b0e5-2128b4bd6c46\")>,\n",
       " <selenium.webdriver.remote.webelement.WebElement (session=\"e5fe2bc2ee83162786da25129613dbbe\", element=\"c6422381-3eba-4b04-ba03-a6a4c17c0488\")>,\n",
       " <selenium.webdriver.remote.webelement.WebElement (session=\"e5fe2bc2ee83162786da25129613dbbe\", element=\"393dd9c1-c980-480f-8a41-4f8850285496\")>,\n",
       " <selenium.webdriver.remote.webelement.WebElement (session=\"e5fe2bc2ee83162786da25129613dbbe\", element=\"0126e169-dbbc-4627-95ca-9b70e556cb75\")>,\n",
       " <selenium.webdriver.remote.webelement.WebElement (session=\"e5fe2bc2ee83162786da25129613dbbe\", element=\"aff6584b-a08e-4c5c-8bf3-acce4a1ddfe1\")>,\n",
       " <selenium.webdriver.remote.webelement.WebElement (session=\"e5fe2bc2ee83162786da25129613dbbe\", element=\"40801135-ff3a-41a9-97a7-bb523df88f35\")>,\n",
       " <selenium.webdriver.remote.webelement.WebElement (session=\"e5fe2bc2ee83162786da25129613dbbe\", element=\"2423a1cc-ea75-400f-90f8-4150113093dc\")>,\n",
       " <selenium.webdriver.remote.webelement.WebElement (session=\"e5fe2bc2ee83162786da25129613dbbe\", element=\"2492da54-1d6f-414b-836b-e5d4c3b5edce\")>,\n",
       " <selenium.webdriver.remote.webelement.WebElement (session=\"e5fe2bc2ee83162786da25129613dbbe\", element=\"f14cc26d-15fa-4e7c-9dd2-7ac77fc4c7cc\")>]"
      ]
     },
     "execution_count": 15,
     "metadata": {},
     "output_type": "execute_result"
    }
   ],
   "source": [
    "#Getting Company tags detail\n",
    "companies_tags=driver.find_elements_by_xpath(\"//a[@class='subTitle ellipsis fleft']\")\n",
    "companies_tag=companies_tags[0:10]\n",
    "companies_tag"
   ]
  },
  {
   "cell_type": "code",
   "execution_count": 16,
   "id": "aa28bf54",
   "metadata": {},
   "outputs": [
    {
     "data": {
      "text/plain": [
       "['Flipkart',\n",
       " 'Flipkart',\n",
       " 'Genpact',\n",
       " 'Aspect',\n",
       " 'GlaxoSmithKline Pharmaceuticals Limited',\n",
       " 'Maruti Suzuki India',\n",
       " 'Rapido',\n",
       " 'SYREN TECHNOLOGIES PRIVATE LIMITED',\n",
       " 'Flipkart',\n",
       " 'StackNexus Technologies India Pvt. Ltd']"
      ]
     },
     "execution_count": 16,
     "metadata": {},
     "output_type": "execute_result"
    }
   ],
   "source": [
    "#Getting Company name\n",
    "for i in companies_tag:\n",
    "    company_name=i.text\n",
    "    company_names.append(company_name)\n",
    "company_names"
   ]
  },
  {
   "cell_type": "code",
   "execution_count": 17,
   "id": "1984b255",
   "metadata": {},
   "outputs": [
    {
     "name": "stderr",
     "output_type": "stream",
     "text": [
      "C:\\Users\\DELLUS~1\\AppData\\Local\\Temp/ipykernel_7712/1036964600.py:2: DeprecationWarning: find_elements_by_* commands are deprecated. Please use find_elements() instead\n",
      "  experience_tags=driver.find_elements_by_xpath(\"//li[@class='fleft grey-text br2 placeHolderLi experience']/span[1]\")\n"
     ]
    },
    {
     "data": {
      "text/plain": [
       "[<selenium.webdriver.remote.webelement.WebElement (session=\"e5fe2bc2ee83162786da25129613dbbe\", element=\"a2ca196f-7ade-4bb7-a876-0f8f7ab9da34\")>,\n",
       " <selenium.webdriver.remote.webelement.WebElement (session=\"e5fe2bc2ee83162786da25129613dbbe\", element=\"33750503-ef25-4dd0-ac59-de4ad5fbac53\")>,\n",
       " <selenium.webdriver.remote.webelement.WebElement (session=\"e5fe2bc2ee83162786da25129613dbbe\", element=\"18adfa51-1c0b-43ef-8dd3-809f1a0503c5\")>,\n",
       " <selenium.webdriver.remote.webelement.WebElement (session=\"e5fe2bc2ee83162786da25129613dbbe\", element=\"c1b56ffe-a1b7-4b80-9f60-fe0145074164\")>,\n",
       " <selenium.webdriver.remote.webelement.WebElement (session=\"e5fe2bc2ee83162786da25129613dbbe\", element=\"1b26e223-ef08-4269-bc2f-af4346962ab2\")>,\n",
       " <selenium.webdriver.remote.webelement.WebElement (session=\"e5fe2bc2ee83162786da25129613dbbe\", element=\"40bc42b9-a9ef-40be-8ce9-e9626571a818\")>,\n",
       " <selenium.webdriver.remote.webelement.WebElement (session=\"e5fe2bc2ee83162786da25129613dbbe\", element=\"80f222fc-b77c-4fba-9a01-dcdda8f244be\")>,\n",
       " <selenium.webdriver.remote.webelement.WebElement (session=\"e5fe2bc2ee83162786da25129613dbbe\", element=\"f86f09c3-9c49-4c97-b339-a3d17638b36c\")>,\n",
       " <selenium.webdriver.remote.webelement.WebElement (session=\"e5fe2bc2ee83162786da25129613dbbe\", element=\"1fbb8b4b-f542-4e44-9c3a-a7e6201a2d3d\")>,\n",
       " <selenium.webdriver.remote.webelement.WebElement (session=\"e5fe2bc2ee83162786da25129613dbbe\", element=\"732ffcbe-c9a2-4dc6-b201-45e0b11a3491\")>]"
      ]
     },
     "execution_count": 17,
     "metadata": {},
     "output_type": "execute_result"
    }
   ],
   "source": [
    "#Getting eprience tags details\n",
    "experience_tags=driver.find_elements_by_xpath(\"//li[@class='fleft grey-text br2 placeHolderLi experience']/span[1]\")\n",
    "experience_tag=experience_tags[0:10]\n",
    "experience_tag"
   ]
  },
  {
   "cell_type": "code",
   "execution_count": 18,
   "id": "e1745d96",
   "metadata": {},
   "outputs": [
    {
     "data": {
      "text/plain": [
       "['1-6 Yrs',\n",
       " '2-4 Yrs',\n",
       " '7-12 Yrs',\n",
       " '0-2 Yrs',\n",
       " '3-8 Yrs',\n",
       " '3-5 Yrs',\n",
       " '1-6 Yrs',\n",
       " '5-10 Yrs',\n",
       " '4-5 Yrs',\n",
       " '3-6 Yrs']"
      ]
     },
     "execution_count": 18,
     "metadata": {},
     "output_type": "execute_result"
    }
   ],
   "source": [
    "#Getting Experience details\n",
    "for i in experience_tag:\n",
    "    experience=i.text\n",
    "    experience_list.append(experience)\n",
    "experience_list"
   ]
  },
  {
   "cell_type": "code",
   "execution_count": 19,
   "id": "27af79a8",
   "metadata": {},
   "outputs": [
    {
     "name": "stderr",
     "output_type": "stream",
     "text": [
      "C:\\Users\\DELLUS~1\\AppData\\Local\\Temp/ipykernel_7712/2258631003.py:2: DeprecationWarning: find_elements_by_* commands are deprecated. Please use find_elements() instead\n",
      "  location_tags=driver.find_elements_by_xpath(\"//li[@class='fleft grey-text br2 placeHolderLi location']/span[1]\")\n"
     ]
    },
    {
     "data": {
      "text/plain": [
       "[<selenium.webdriver.remote.webelement.WebElement (session=\"e5fe2bc2ee83162786da25129613dbbe\", element=\"04a8294c-d6ac-4e10-8c02-243767a27561\")>,\n",
       " <selenium.webdriver.remote.webelement.WebElement (session=\"e5fe2bc2ee83162786da25129613dbbe\", element=\"f1149665-ed5d-418a-ad3e-f9607c08bc34\")>,\n",
       " <selenium.webdriver.remote.webelement.WebElement (session=\"e5fe2bc2ee83162786da25129613dbbe\", element=\"f530dbde-2e5b-450d-be14-609d258c8c65\")>,\n",
       " <selenium.webdriver.remote.webelement.WebElement (session=\"e5fe2bc2ee83162786da25129613dbbe\", element=\"2bdd4344-038f-4539-a8a3-603ea3e29d03\")>,\n",
       " <selenium.webdriver.remote.webelement.WebElement (session=\"e5fe2bc2ee83162786da25129613dbbe\", element=\"f7f9aa12-cb37-4d4e-a9c7-3d0fb48984a5\")>,\n",
       " <selenium.webdriver.remote.webelement.WebElement (session=\"e5fe2bc2ee83162786da25129613dbbe\", element=\"5504303f-28ee-4a43-9373-7ca35b1981fd\")>,\n",
       " <selenium.webdriver.remote.webelement.WebElement (session=\"e5fe2bc2ee83162786da25129613dbbe\", element=\"fb13cf8b-458a-4f70-95f1-275d78c00932\")>,\n",
       " <selenium.webdriver.remote.webelement.WebElement (session=\"e5fe2bc2ee83162786da25129613dbbe\", element=\"4dc49130-a9bd-4632-b181-8ff17330ce64\")>,\n",
       " <selenium.webdriver.remote.webelement.WebElement (session=\"e5fe2bc2ee83162786da25129613dbbe\", element=\"8a4e9396-d1ff-4d41-845d-15471476f595\")>,\n",
       " <selenium.webdriver.remote.webelement.WebElement (session=\"e5fe2bc2ee83162786da25129613dbbe\", element=\"dee7bd06-7976-4751-b67a-f2fe0491259f\")>]"
      ]
     },
     "execution_count": 19,
     "metadata": {},
     "output_type": "execute_result"
    }
   ],
   "source": [
    "#Getting Location tags details\n",
    "location_tags=driver.find_elements_by_xpath(\"//li[@class='fleft grey-text br2 placeHolderLi location']/span[1]\")\n",
    "location_tag=location_tags[0:10]\n",
    "location_tag"
   ]
  },
  {
   "cell_type": "code",
   "execution_count": 20,
   "id": "75bf3963",
   "metadata": {},
   "outputs": [
    {
     "data": {
      "text/plain": [
       "['Bangalore/Bengaluru',\n",
       " 'Bengaluru/Bangalore',\n",
       " 'Pune, Bangalore/Bengaluru',\n",
       " 'Bangalore/Bengaluru',\n",
       " 'Bangalore/Bengaluru',\n",
       " 'Gurgaon/Gurugram, bangalore',\n",
       " 'Bangalore/Bengaluru',\n",
       " 'Kolkata, Hyderabad/Secunderabad, Pune, Ahmedabad, Chennai, Bangalore/Bengaluru, Delhi / NCR, Mumbai (All Areas)',\n",
       " 'Bengaluru/Bangalore',\n",
       " 'Hyderabad/Secunderabad, Bangalore/Bengaluru']"
      ]
     },
     "execution_count": 20,
     "metadata": {},
     "output_type": "execute_result"
    }
   ],
   "source": [
    "#Getting location details\n",
    "for i in location_tag:\n",
    "    location=i.text\n",
    "    location_list.append(location)\n",
    "location_list"
   ]
  },
  {
   "cell_type": "code",
   "execution_count": 21,
   "id": "80fd4617",
   "metadata": {},
   "outputs": [
    {
     "name": "stdout",
     "output_type": "stream",
     "text": [
      "10 10 10 10\n"
     ]
    }
   ],
   "source": [
    "print(len(job_titles),len(company_names),len(experience_list),len(location_list))"
   ]
  },
  {
   "cell_type": "code",
   "execution_count": 22,
   "id": "6244776a",
   "metadata": {},
   "outputs": [],
   "source": [
    "#Creating a Dataframe\n",
    "jobs=pd.DataFrame({})\n",
    "jobs['title']=job_titles\n",
    "jobs['location']=location_list\n",
    "jobs['company']=company_names\n",
    "jobs['experience required']=experience_list"
   ]
  },
  {
   "cell_type": "code",
   "execution_count": 23,
   "id": "b5826ac9",
   "metadata": {},
   "outputs": [
    {
     "data": {
      "text/html": [
       "<div>\n",
       "<style scoped>\n",
       "    .dataframe tbody tr th:only-of-type {\n",
       "        vertical-align: middle;\n",
       "    }\n",
       "\n",
       "    .dataframe tbody tr th {\n",
       "        vertical-align: top;\n",
       "    }\n",
       "\n",
       "    .dataframe thead th {\n",
       "        text-align: right;\n",
       "    }\n",
       "</style>\n",
       "<table border=\"1\" class=\"dataframe\">\n",
       "  <thead>\n",
       "    <tr style=\"text-align: right;\">\n",
       "      <th></th>\n",
       "      <th>title</th>\n",
       "      <th>location</th>\n",
       "      <th>company</th>\n",
       "      <th>experience required</th>\n",
       "    </tr>\n",
       "  </thead>\n",
       "  <tbody>\n",
       "    <tr>\n",
       "      <th>0</th>\n",
       "      <td>Hiring -Data Analyst, Business Analyst, MIS An...</td>\n",
       "      <td>Bangalore/Bengaluru</td>\n",
       "      <td>Flipkart</td>\n",
       "      <td>1-6 Yrs</td>\n",
       "    </tr>\n",
       "    <tr>\n",
       "      <th>1</th>\n",
       "      <td>Senior Data Analyst III</td>\n",
       "      <td>Bengaluru/Bangalore</td>\n",
       "      <td>Flipkart</td>\n",
       "      <td>2-4 Yrs</td>\n",
       "    </tr>\n",
       "    <tr>\n",
       "      <th>2</th>\n",
       "      <td>Business Analyst/ Data Analyst- Capital Market...</td>\n",
       "      <td>Pune, Bangalore/Bengaluru</td>\n",
       "      <td>Genpact</td>\n",
       "      <td>7-12 Yrs</td>\n",
       "    </tr>\n",
       "    <tr>\n",
       "      <th>3</th>\n",
       "      <td>Customer Data Management Analyst</td>\n",
       "      <td>Bangalore/Bengaluru</td>\n",
       "      <td>Aspect</td>\n",
       "      <td>0-2 Yrs</td>\n",
       "    </tr>\n",
       "    <tr>\n",
       "      <th>4</th>\n",
       "      <td>Data Analyst</td>\n",
       "      <td>Bangalore/Bengaluru</td>\n",
       "      <td>GlaxoSmithKline Pharmaceuticals Limited</td>\n",
       "      <td>3-8 Yrs</td>\n",
       "    </tr>\n",
       "    <tr>\n",
       "      <th>5</th>\n",
       "      <td>Assistant/deputy Manager - Geo-spatial Data An...</td>\n",
       "      <td>Gurgaon/Gurugram, bangalore</td>\n",
       "      <td>Maruti Suzuki India</td>\n",
       "      <td>3-5 Yrs</td>\n",
       "    </tr>\n",
       "    <tr>\n",
       "      <th>6</th>\n",
       "      <td>Senior Data Analyst</td>\n",
       "      <td>Bangalore/Bengaluru</td>\n",
       "      <td>Rapido</td>\n",
       "      <td>1-6 Yrs</td>\n",
       "    </tr>\n",
       "    <tr>\n",
       "      <th>7</th>\n",
       "      <td>Senior Data Analyst</td>\n",
       "      <td>Kolkata, Hyderabad/Secunderabad, Pune, Ahmedab...</td>\n",
       "      <td>SYREN TECHNOLOGIES PRIVATE LIMITED</td>\n",
       "      <td>5-10 Yrs</td>\n",
       "    </tr>\n",
       "    <tr>\n",
       "      <th>8</th>\n",
       "      <td>Senior Data Analyst</td>\n",
       "      <td>Bengaluru/Bangalore</td>\n",
       "      <td>Flipkart</td>\n",
       "      <td>4-5 Yrs</td>\n",
       "    </tr>\n",
       "    <tr>\n",
       "      <th>9</th>\n",
       "      <td>Openings For SQL Data Analyst</td>\n",
       "      <td>Hyderabad/Secunderabad, Bangalore/Bengaluru</td>\n",
       "      <td>StackNexus Technologies India Pvt. Ltd</td>\n",
       "      <td>3-6 Yrs</td>\n",
       "    </tr>\n",
       "  </tbody>\n",
       "</table>\n",
       "</div>"
      ],
      "text/plain": [
       "                                               title  \\\n",
       "0  Hiring -Data Analyst, Business Analyst, MIS An...   \n",
       "1                            Senior Data Analyst III   \n",
       "2  Business Analyst/ Data Analyst- Capital Market...   \n",
       "3                   Customer Data Management Analyst   \n",
       "4                                       Data Analyst   \n",
       "5  Assistant/deputy Manager - Geo-spatial Data An...   \n",
       "6                                Senior Data Analyst   \n",
       "7                                Senior Data Analyst   \n",
       "8                                Senior Data Analyst   \n",
       "9                      Openings For SQL Data Analyst   \n",
       "\n",
       "                                            location  \\\n",
       "0                                Bangalore/Bengaluru   \n",
       "1                                Bengaluru/Bangalore   \n",
       "2                          Pune, Bangalore/Bengaluru   \n",
       "3                                Bangalore/Bengaluru   \n",
       "4                                Bangalore/Bengaluru   \n",
       "5                        Gurgaon/Gurugram, bangalore   \n",
       "6                                Bangalore/Bengaluru   \n",
       "7  Kolkata, Hyderabad/Secunderabad, Pune, Ahmedab...   \n",
       "8                                Bengaluru/Bangalore   \n",
       "9        Hyderabad/Secunderabad, Bangalore/Bengaluru   \n",
       "\n",
       "                                   company experience required  \n",
       "0                                 Flipkart             1-6 Yrs  \n",
       "1                                 Flipkart             2-4 Yrs  \n",
       "2                                  Genpact            7-12 Yrs  \n",
       "3                                   Aspect             0-2 Yrs  \n",
       "4  GlaxoSmithKline Pharmaceuticals Limited             3-8 Yrs  \n",
       "5                      Maruti Suzuki India             3-5 Yrs  \n",
       "6                                   Rapido             1-6 Yrs  \n",
       "7       SYREN TECHNOLOGIES PRIVATE LIMITED            5-10 Yrs  \n",
       "8                                 Flipkart             4-5 Yrs  \n",
       "9   StackNexus Technologies India Pvt. Ltd             3-6 Yrs  "
      ]
     },
     "execution_count": 23,
     "metadata": {},
     "output_type": "execute_result"
    }
   ],
   "source": [
    "#Display data in DataFrame\n",
    "jobs"
   ]
  },
  {
   "cell_type": "code",
   "execution_count": 24,
   "id": "cdfe8c22",
   "metadata": {},
   "outputs": [],
   "source": [
    "driver.close()"
   ]
  },
  {
   "cell_type": "markdown",
   "id": "4c7fd07d",
   "metadata": {},
   "source": [
    "# Q2"
   ]
  },
  {
   "cell_type": "code",
   "execution_count": 36,
   "id": "64927792",
   "metadata": {},
   "outputs": [],
   "source": [
    "s = Service('D:/Data_Science/chromedriver_win32/chromedriver.exe')\n",
    "driver = webdriver.Chrome(service=s)"
   ]
  },
  {
   "cell_type": "code",
   "execution_count": 37,
   "id": "89402a75",
   "metadata": {},
   "outputs": [],
   "source": [
    "#Getting the Webpage\n",
    "driver.get('https://www.naukri.com/')"
   ]
  },
  {
   "cell_type": "code",
   "execution_count": 38,
   "id": "98d9efb3",
   "metadata": {},
   "outputs": [
    {
     "name": "stderr",
     "output_type": "stream",
     "text": [
      "C:\\Users\\DELLUS~1\\AppData\\Local\\Temp/ipykernel_6040/815467617.py:2: DeprecationWarning: find_element_by_* commands are deprecated. Please use find_element() instead\n",
      "  searc_job = driver.find_element_by_id('qsb-keyword-sugg')\n",
      "C:\\Users\\DELLUS~1\\AppData\\Local\\Temp/ipykernel_6040/815467617.py:4: DeprecationWarning: find_element_by_* commands are deprecated. Please use find_element() instead\n",
      "  searc_loc = driver.find_element_by_xpath(\"//input[@id='qsb-location-sugg']\")\n"
     ]
    }
   ],
   "source": [
    "#Entering the Skill, Designations, Companies field and location field\n",
    "searc_job = driver.find_element_by_id('qsb-keyword-sugg')\n",
    "searc_job.send_keys('Data Scientist')\n",
    "searc_loc = driver.find_element_by_xpath(\"//input[@id='qsb-location-sugg']\")\n",
    "searc_loc.send_keys('Bangalore')"
   ]
  },
  {
   "cell_type": "code",
   "execution_count": 39,
   "id": "68b27986",
   "metadata": {},
   "outputs": [
    {
     "name": "stderr",
     "output_type": "stream",
     "text": [
      "C:\\Users\\DELLUS~1\\AppData\\Local\\Temp/ipykernel_6040/2120614705.py:1: DeprecationWarning: find_element_by_* commands are deprecated. Please use find_element() instead\n",
      "  searc_btn = driver.find_element_by_xpath(\"//div[@class='search-btn']/button\")\n"
     ]
    }
   ],
   "source": [
    "searc_btn = driver.find_element_by_xpath(\"//div[@class='search-btn']/button\")\n",
    "searc_btn.click()"
   ]
  },
  {
   "cell_type": "code",
   "execution_count": 43,
   "id": "db9a35a1",
   "metadata": {},
   "outputs": [],
   "source": [
    "#scrapped url from above cmd\n",
    "url = \"https://www.naukri.com/data-scientist-jobs-in-bangalore?k=data%20scientist&l=bangalore\"\n",
    "driver.get(url)"
   ]
  },
  {
   "cell_type": "code",
   "execution_count": 44,
   "id": "8a8450b9",
   "metadata": {},
   "outputs": [
    {
     "name": "stderr",
     "output_type": "stream",
     "text": [
      "C:\\Users\\DELLUS~1\\AppData\\Local\\Temp/ipykernel_6040/2524889971.py:2: DeprecationWarning: find_elements_by_* commands are deprecated. Please use find_elements() instead\n",
      "  tit_tags=driver.find_elements_by_xpath(\"//a[@class='title fw500 ellipsis']\")\n"
     ]
    },
    {
     "data": {
      "text/plain": [
       "[<selenium.webdriver.remote.webelement.WebElement (session=\"c378d320a423503768013648f7c20b0c\", element=\"3352c9cf-ace8-40d9-95a5-83661cc2f470\")>,\n",
       " <selenium.webdriver.remote.webelement.WebElement (session=\"c378d320a423503768013648f7c20b0c\", element=\"15bbe207-f6ec-4eb2-99ce-9f57c6b54bcc\")>,\n",
       " <selenium.webdriver.remote.webelement.WebElement (session=\"c378d320a423503768013648f7c20b0c\", element=\"f237907d-ffc6-47ce-8f12-10326baf6e68\")>,\n",
       " <selenium.webdriver.remote.webelement.WebElement (session=\"c378d320a423503768013648f7c20b0c\", element=\"41e738ee-4f0d-4ae1-b89f-35f827ead3d8\")>,\n",
       " <selenium.webdriver.remote.webelement.WebElement (session=\"c378d320a423503768013648f7c20b0c\", element=\"4b5334ea-9696-4167-a58a-30300ace7c10\")>,\n",
       " <selenium.webdriver.remote.webelement.WebElement (session=\"c378d320a423503768013648f7c20b0c\", element=\"f4892ce7-3efc-4b1c-92ee-f87d19fe5205\")>,\n",
       " <selenium.webdriver.remote.webelement.WebElement (session=\"c378d320a423503768013648f7c20b0c\", element=\"3c0fc05d-c379-45bc-8839-4e0860a04129\")>,\n",
       " <selenium.webdriver.remote.webelement.WebElement (session=\"c378d320a423503768013648f7c20b0c\", element=\"44d684e1-4251-4eba-9b2b-0029ad0d1c75\")>,\n",
       " <selenium.webdriver.remote.webelement.WebElement (session=\"c378d320a423503768013648f7c20b0c\", element=\"aaef85a4-9581-46a3-ba49-f00871ee3386\")>,\n",
       " <selenium.webdriver.remote.webelement.WebElement (session=\"c378d320a423503768013648f7c20b0c\", element=\"8bbe87f7-01ca-4e40-b041-e5124bf59492\")>]"
      ]
     },
     "execution_count": 44,
     "metadata": {},
     "output_type": "execute_result"
    }
   ],
   "source": [
    "#Getting title tags details\n",
    "tit_tags=driver.find_elements_by_xpath(\"//a[@class='title fw500 ellipsis']\")\n",
    "tit_tag=tit_tags[0:10]\n",
    "tit_tag"
   ]
  },
  {
   "cell_type": "code",
   "execution_count": 49,
   "id": "781ca064",
   "metadata": {},
   "outputs": [],
   "source": [
    "job_tit=[]\n",
    "location_det=[]\n",
    "comp_name=[]"
   ]
  },
  {
   "cell_type": "code",
   "execution_count": 50,
   "id": "1859b1e7",
   "metadata": {},
   "outputs": [
    {
     "data": {
      "text/plain": [
       "['Data Scientist',\n",
       " 'Data Science - Senior Data Scientist',\n",
       " 'Lead / Principal Data Scientist',\n",
       " 'Senior Data Scientist',\n",
       " 'Senior Data Scientist',\n",
       " 'Data Scientist - Credit Risk',\n",
       " 'Lead/Senior Data Scientist (NLP)',\n",
       " 'Data Scientist',\n",
       " 'Data Scientist',\n",
       " 'Advanced Analytics Expert - Data Scientist']"
      ]
     },
     "execution_count": 50,
     "metadata": {},
     "output_type": "execute_result"
    }
   ],
   "source": [
    "#Getting titles\n",
    "for i in tit_tag:\n",
    "    title=i.text\n",
    "    job_tit.append(title)\n",
    "job_tit"
   ]
  },
  {
   "cell_type": "code",
   "execution_count": 51,
   "id": "5e1a435f",
   "metadata": {},
   "outputs": [
    {
     "name": "stderr",
     "output_type": "stream",
     "text": [
      "C:\\Users\\DELLUS~1\\AppData\\Local\\Temp/ipykernel_6040/3024142880.py:2: DeprecationWarning: find_elements_by_* commands are deprecated. Please use find_elements() instead\n",
      "  compan_tags=driver.find_elements_by_xpath(\"//a[@class='subTitle ellipsis fleft']\")\n"
     ]
    },
    {
     "data": {
      "text/plain": [
       "[<selenium.webdriver.remote.webelement.WebElement (session=\"c378d320a423503768013648f7c20b0c\", element=\"9ae5f646-c3a9-417a-bbf1-ef5fbdd0da47\")>,\n",
       " <selenium.webdriver.remote.webelement.WebElement (session=\"c378d320a423503768013648f7c20b0c\", element=\"5616079a-ecad-40bd-ad71-6ed6e0888771\")>,\n",
       " <selenium.webdriver.remote.webelement.WebElement (session=\"c378d320a423503768013648f7c20b0c\", element=\"734850a6-687b-437c-883b-7bea123ea8e3\")>,\n",
       " <selenium.webdriver.remote.webelement.WebElement (session=\"c378d320a423503768013648f7c20b0c\", element=\"55cc1dd3-3b45-413c-983b-166ae102c4f2\")>,\n",
       " <selenium.webdriver.remote.webelement.WebElement (session=\"c378d320a423503768013648f7c20b0c\", element=\"f45649f2-b350-432e-b8db-47e45f456656\")>,\n",
       " <selenium.webdriver.remote.webelement.WebElement (session=\"c378d320a423503768013648f7c20b0c\", element=\"aab1a974-0a6b-42cf-ba38-b1830d826df0\")>,\n",
       " <selenium.webdriver.remote.webelement.WebElement (session=\"c378d320a423503768013648f7c20b0c\", element=\"ba53498a-a80f-43b6-8286-c042e7822642\")>,\n",
       " <selenium.webdriver.remote.webelement.WebElement (session=\"c378d320a423503768013648f7c20b0c\", element=\"910aa39e-a264-4d99-b16a-ec7b61ff88b6\")>,\n",
       " <selenium.webdriver.remote.webelement.WebElement (session=\"c378d320a423503768013648f7c20b0c\", element=\"740e3a0a-bf56-4e93-b412-54e05c4d16a2\")>,\n",
       " <selenium.webdriver.remote.webelement.WebElement (session=\"c378d320a423503768013648f7c20b0c\", element=\"fd324d9a-0eff-4aa5-9c89-aa00ac08b3eb\")>]"
      ]
     },
     "execution_count": 51,
     "metadata": {},
     "output_type": "execute_result"
    }
   ],
   "source": [
    "#Getting Company tags detail\n",
    "compan_tags=driver.find_elements_by_xpath(\"//a[@class='subTitle ellipsis fleft']\")\n",
    "compan_tag=compan_tags[0:10]\n",
    "compan_tag"
   ]
  },
  {
   "cell_type": "code",
   "execution_count": 52,
   "id": "8be12c1e",
   "metadata": {},
   "outputs": [
    {
     "data": {
      "text/plain": [
       "['Snaphunt',\n",
       " 'Paytm',\n",
       " 'Aviso Inc',\n",
       " 'Ally-Executive',\n",
       " 'Visa',\n",
       " 'Scienaptic Systems',\n",
       " 'Samya.AI A FRACTAL Entity',\n",
       " 'Truecaller',\n",
       " 'Slice',\n",
       " 'Hewlett-Packard']"
      ]
     },
     "execution_count": 52,
     "metadata": {},
     "output_type": "execute_result"
    }
   ],
   "source": [
    "#Getting Company name\n",
    "for i in compan_tag:\n",
    "    company_name=i.text\n",
    "    comp_name.append(company_name)\n",
    "comp_name"
   ]
  },
  {
   "cell_type": "code",
   "execution_count": 54,
   "id": "1161ed75",
   "metadata": {},
   "outputs": [
    {
     "name": "stderr",
     "output_type": "stream",
     "text": [
      "C:\\Users\\DELLUS~1\\AppData\\Local\\Temp/ipykernel_6040/2964201348.py:2: DeprecationWarning: find_elements_by_* commands are deprecated. Please use find_elements() instead\n",
      "  locat_tags=driver.find_elements_by_xpath(\"//li[@class='fleft grey-text br2 placeHolderLi location']/span[1]\")\n"
     ]
    },
    {
     "data": {
      "text/plain": [
       "[<selenium.webdriver.remote.webelement.WebElement (session=\"c378d320a423503768013648f7c20b0c\", element=\"2d507657-8b50-4282-b191-789b36b2f1f9\")>,\n",
       " <selenium.webdriver.remote.webelement.WebElement (session=\"c378d320a423503768013648f7c20b0c\", element=\"16baa286-f692-4d06-93fc-f8c3f66fa067\")>,\n",
       " <selenium.webdriver.remote.webelement.WebElement (session=\"c378d320a423503768013648f7c20b0c\", element=\"baaeddb8-bcea-480e-869f-acd6eb1db18c\")>,\n",
       " <selenium.webdriver.remote.webelement.WebElement (session=\"c378d320a423503768013648f7c20b0c\", element=\"b2e17fc2-b2c1-4189-b16d-65e7d0c5d2f5\")>,\n",
       " <selenium.webdriver.remote.webelement.WebElement (session=\"c378d320a423503768013648f7c20b0c\", element=\"cd9679e5-f581-4434-b9c8-a3514a99b4cd\")>,\n",
       " <selenium.webdriver.remote.webelement.WebElement (session=\"c378d320a423503768013648f7c20b0c\", element=\"58de66fe-846c-43f5-9212-ad89de47f6b9\")>,\n",
       " <selenium.webdriver.remote.webelement.WebElement (session=\"c378d320a423503768013648f7c20b0c\", element=\"af69a307-4220-40c5-ba3c-a810866ec748\")>,\n",
       " <selenium.webdriver.remote.webelement.WebElement (session=\"c378d320a423503768013648f7c20b0c\", element=\"b491f377-012b-4d34-be05-7be02b7706d9\")>,\n",
       " <selenium.webdriver.remote.webelement.WebElement (session=\"c378d320a423503768013648f7c20b0c\", element=\"ab36a8a8-565c-409f-9b7f-bef187d24d81\")>,\n",
       " <selenium.webdriver.remote.webelement.WebElement (session=\"c378d320a423503768013648f7c20b0c\", element=\"537134c2-97ca-4698-966a-d5ecb7cf74ce\")>]"
      ]
     },
     "execution_count": 54,
     "metadata": {},
     "output_type": "execute_result"
    }
   ],
   "source": [
    "#Getting Location tags details\n",
    "locat_tags=driver.find_elements_by_xpath(\"//li[@class='fleft grey-text br2 placeHolderLi location']/span[1]\")\n",
    "locat_tag=locat_tags[0:10]\n",
    "locat_tag"
   ]
  },
  {
   "cell_type": "code",
   "execution_count": 55,
   "id": "bd139a40",
   "metadata": {},
   "outputs": [
    {
     "data": {
      "text/plain": [
       "['Bangalore/Bengaluru',\n",
       " 'Noida, Bangalore/Bengaluru',\n",
       " 'Mumbai, Hyderabad/Secunderabad, Pune, Delhi / NCR, Bangalore/Bengaluru',\n",
       " 'Bangalore/Bengaluru',\n",
       " 'Bangalore/Bengaluru',\n",
       " 'Bangalore/Bengaluru',\n",
       " 'Bangalore/Bengaluru',\n",
       " 'Bangalore/Bengaluru',\n",
       " 'Bangalore/Bengaluru',\n",
       " 'Bangalore/Bengaluru, Bangalore']"
      ]
     },
     "execution_count": 55,
     "metadata": {},
     "output_type": "execute_result"
    }
   ],
   "source": [
    "#Getting location details\n",
    "for i in locat_tag:\n",
    "    location=i.text\n",
    "    location_det.append(location)\n",
    "location_det"
   ]
  },
  {
   "cell_type": "code",
   "execution_count": 56,
   "id": "ce78d087",
   "metadata": {},
   "outputs": [
    {
     "name": "stdout",
     "output_type": "stream",
     "text": [
      "10 10 10\n"
     ]
    }
   ],
   "source": [
    "print(len(job_tit),len(location_det),len(comp_name))"
   ]
  },
  {
   "cell_type": "code",
   "execution_count": 57,
   "id": "f336c08b",
   "metadata": {},
   "outputs": [],
   "source": [
    "#Creating a Dataframe\n",
    "job=pd.DataFrame({})\n",
    "job['title']=job_tit\n",
    "job['location']=location_det\n",
    "job['company']=comp_name"
   ]
  },
  {
   "cell_type": "code",
   "execution_count": 60,
   "id": "07942780",
   "metadata": {},
   "outputs": [
    {
     "data": {
      "text/html": [
       "<div>\n",
       "<style scoped>\n",
       "    .dataframe tbody tr th:only-of-type {\n",
       "        vertical-align: middle;\n",
       "    }\n",
       "\n",
       "    .dataframe tbody tr th {\n",
       "        vertical-align: top;\n",
       "    }\n",
       "\n",
       "    .dataframe thead th {\n",
       "        text-align: right;\n",
       "    }\n",
       "</style>\n",
       "<table border=\"1\" class=\"dataframe\">\n",
       "  <thead>\n",
       "    <tr style=\"text-align: right;\">\n",
       "      <th></th>\n",
       "      <th>title</th>\n",
       "      <th>location</th>\n",
       "      <th>company</th>\n",
       "    </tr>\n",
       "  </thead>\n",
       "  <tbody>\n",
       "    <tr>\n",
       "      <th>0</th>\n",
       "      <td>Data Scientist</td>\n",
       "      <td>Bangalore/Bengaluru</td>\n",
       "      <td>Snaphunt</td>\n",
       "    </tr>\n",
       "    <tr>\n",
       "      <th>1</th>\n",
       "      <td>Data Science - Senior Data Scientist</td>\n",
       "      <td>Noida, Bangalore/Bengaluru</td>\n",
       "      <td>Paytm</td>\n",
       "    </tr>\n",
       "    <tr>\n",
       "      <th>2</th>\n",
       "      <td>Lead / Principal Data Scientist</td>\n",
       "      <td>Mumbai, Hyderabad/Secunderabad, Pune, Delhi / ...</td>\n",
       "      <td>Aviso Inc</td>\n",
       "    </tr>\n",
       "    <tr>\n",
       "      <th>3</th>\n",
       "      <td>Senior Data Scientist</td>\n",
       "      <td>Bangalore/Bengaluru</td>\n",
       "      <td>Ally-Executive</td>\n",
       "    </tr>\n",
       "    <tr>\n",
       "      <th>4</th>\n",
       "      <td>Senior Data Scientist</td>\n",
       "      <td>Bangalore/Bengaluru</td>\n",
       "      <td>Visa</td>\n",
       "    </tr>\n",
       "    <tr>\n",
       "      <th>5</th>\n",
       "      <td>Data Scientist - Credit Risk</td>\n",
       "      <td>Bangalore/Bengaluru</td>\n",
       "      <td>Scienaptic Systems</td>\n",
       "    </tr>\n",
       "    <tr>\n",
       "      <th>6</th>\n",
       "      <td>Lead/Senior Data Scientist (NLP)</td>\n",
       "      <td>Bangalore/Bengaluru</td>\n",
       "      <td>Samya.AI A FRACTAL Entity</td>\n",
       "    </tr>\n",
       "    <tr>\n",
       "      <th>7</th>\n",
       "      <td>Data Scientist</td>\n",
       "      <td>Bangalore/Bengaluru</td>\n",
       "      <td>Truecaller</td>\n",
       "    </tr>\n",
       "    <tr>\n",
       "      <th>8</th>\n",
       "      <td>Data Scientist</td>\n",
       "      <td>Bangalore/Bengaluru</td>\n",
       "      <td>Slice</td>\n",
       "    </tr>\n",
       "    <tr>\n",
       "      <th>9</th>\n",
       "      <td>Advanced Analytics Expert - Data Scientist</td>\n",
       "      <td>Bangalore/Bengaluru, Bangalore</td>\n",
       "      <td>Hewlett-Packard</td>\n",
       "    </tr>\n",
       "  </tbody>\n",
       "</table>\n",
       "</div>"
      ],
      "text/plain": [
       "                                        title  \\\n",
       "0                              Data Scientist   \n",
       "1        Data Science - Senior Data Scientist   \n",
       "2             Lead / Principal Data Scientist   \n",
       "3                       Senior Data Scientist   \n",
       "4                       Senior Data Scientist   \n",
       "5                Data Scientist - Credit Risk   \n",
       "6            Lead/Senior Data Scientist (NLP)   \n",
       "7                              Data Scientist   \n",
       "8                              Data Scientist   \n",
       "9  Advanced Analytics Expert - Data Scientist   \n",
       "\n",
       "                                            location  \\\n",
       "0                                Bangalore/Bengaluru   \n",
       "1                         Noida, Bangalore/Bengaluru   \n",
       "2  Mumbai, Hyderabad/Secunderabad, Pune, Delhi / ...   \n",
       "3                                Bangalore/Bengaluru   \n",
       "4                                Bangalore/Bengaluru   \n",
       "5                                Bangalore/Bengaluru   \n",
       "6                                Bangalore/Bengaluru   \n",
       "7                                Bangalore/Bengaluru   \n",
       "8                                Bangalore/Bengaluru   \n",
       "9                     Bangalore/Bengaluru, Bangalore   \n",
       "\n",
       "                     company  \n",
       "0                   Snaphunt  \n",
       "1                      Paytm  \n",
       "2                  Aviso Inc  \n",
       "3             Ally-Executive  \n",
       "4                       Visa  \n",
       "5         Scienaptic Systems  \n",
       "6  Samya.AI A FRACTAL Entity  \n",
       "7                 Truecaller  \n",
       "8                      Slice  \n",
       "9            Hewlett-Packard  "
      ]
     },
     "execution_count": 60,
     "metadata": {},
     "output_type": "execute_result"
    }
   ],
   "source": [
    "#Display data in DataFrame\n",
    "job"
   ]
  },
  {
   "cell_type": "markdown",
   "id": "fa408747",
   "metadata": {},
   "source": [
    "# Q3"
   ]
  },
  {
   "cell_type": "code",
   "execution_count": 119,
   "id": "214aa070",
   "metadata": {},
   "outputs": [],
   "source": [
    "s = Service('D:/Data_Science/chromedriver_win32/chromedriver.exe')\n",
    "driver = webdriver.Chrome(service=s)"
   ]
  },
  {
   "cell_type": "code",
   "execution_count": 120,
   "id": "ef3d91a1",
   "metadata": {},
   "outputs": [],
   "source": [
    "#Getting the Webpage\n",
    "driver.get('https://www.naukri.com/')"
   ]
  },
  {
   "cell_type": "code",
   "execution_count": 121,
   "id": "af9a5f7a",
   "metadata": {},
   "outputs": [
    {
     "name": "stderr",
     "output_type": "stream",
     "text": [
      "C:\\Users\\DELLUS~1\\AppData\\Local\\Temp/ipykernel_6040/3277451212.py:2: DeprecationWarning: find_element_by_* commands are deprecated. Please use find_element() instead\n",
      "  sear_job = driver.find_element_by_id('qsb-keyword-sugg')\n"
     ]
    }
   ],
   "source": [
    "#Entering the Skill, Designations, Companies field\n",
    "sear_job = driver.find_element_by_id('qsb-keyword-sugg')\n",
    "sear_job.send_keys('Data Scientist')"
   ]
  },
  {
   "cell_type": "code",
   "execution_count": 122,
   "id": "5835ec29",
   "metadata": {},
   "outputs": [
    {
     "name": "stderr",
     "output_type": "stream",
     "text": [
      "C:\\Users\\DELLUS~1\\AppData\\Local\\Temp/ipykernel_6040/4231660479.py:2: DeprecationWarning: find_element_by_* commands are deprecated. Please use find_element() instead\n",
      "  searc_btn = driver.find_element_by_xpath(\"//div[@class='search-btn']/button\")\n"
     ]
    }
   ],
   "source": [
    "#Clinking on button\n",
    "searc_btn = driver.find_element_by_xpath(\"//div[@class='search-btn']/button\")\n",
    "searc_btn.click()"
   ]
  },
  {
   "cell_type": "code",
   "execution_count": 125,
   "id": "e39693a6",
   "metadata": {},
   "outputs": [
    {
     "name": "stderr",
     "output_type": "stream",
     "text": [
      "C:\\Users\\DELLUS~1\\AppData\\Local\\Temp/ipykernel_6040/3268849649.py:2: DeprecationWarning: find_element_by_* commands are deprecated. Please use find_element() instead\n",
      "  loc_filter = driver.find_element_by_xpath('//*[@id=\"root\"]/div[3]/div[2]/section[1]/div[2]/div[3]/div[2]/div[3]/label/p/span[1]')\n"
     ]
    }
   ],
   "source": [
    "#Filter on location\n",
    "loc_filter = driver.find_element_by_xpath('//*[@id=\"root\"]/div[3]/div[2]/section[1]/div[2]/div[3]/div[2]/div[3]/label/p/span[1]')\n",
    "loc_filter.click()"
   ]
  },
  {
   "cell_type": "code",
   "execution_count": 126,
   "id": "17f0709a",
   "metadata": {},
   "outputs": [
    {
     "name": "stderr",
     "output_type": "stream",
     "text": [
      "C:\\Users\\DELLUS~1\\AppData\\Local\\Temp/ipykernel_6040/2931086313.py:2: DeprecationWarning: find_element_by_* commands are deprecated. Please use find_element() instead\n",
      "  sal_filter = driver.find_element_by_xpath('//*[@id=\"root\"]/div[3]/div[2]/section[1]/div[2]/div[4]/div[2]/div[2]/label/p/span[1]')\n"
     ]
    }
   ],
   "source": [
    "#Filter on Salary\n",
    "sal_filter = driver.find_element_by_xpath('//*[@id=\"root\"]/div[3]/div[2]/section[1]/div[2]/div[4]/div[2]/div[2]/label/p/span[1]')\n",
    "sal_filter.click()"
   ]
  },
  {
   "cell_type": "code",
   "execution_count": 127,
   "id": "0213fede",
   "metadata": {},
   "outputs": [],
   "source": [
    "job_ti=[]\n",
    "comp_names=[]\n",
    "locat_list=[]\n",
    "exper_list=[]"
   ]
  },
  {
   "cell_type": "code",
   "execution_count": 130,
   "id": "94251c1c",
   "metadata": {},
   "outputs": [
    {
     "name": "stderr",
     "output_type": "stream",
     "text": [
      "C:\\Users\\DELLUS~1\\AppData\\Local\\Temp/ipykernel_6040/2524889971.py:2: DeprecationWarning: find_elements_by_* commands are deprecated. Please use find_elements() instead\n",
      "  tit_tags=driver.find_elements_by_xpath(\"//a[@class='title fw500 ellipsis']\")\n"
     ]
    },
    {
     "data": {
      "text/plain": [
       "[<selenium.webdriver.remote.webelement.WebElement (session=\"8d41e3e62f1f0ce6acfdd1639dacce40\", element=\"bb820c7e-af6f-4e7e-8bf1-1a0a3dd70265\")>,\n",
       " <selenium.webdriver.remote.webelement.WebElement (session=\"8d41e3e62f1f0ce6acfdd1639dacce40\", element=\"9fbceed6-b787-4258-b4f0-980aa02de726\")>,\n",
       " <selenium.webdriver.remote.webelement.WebElement (session=\"8d41e3e62f1f0ce6acfdd1639dacce40\", element=\"58a4d616-da8b-4931-81b8-821058eb1122\")>,\n",
       " <selenium.webdriver.remote.webelement.WebElement (session=\"8d41e3e62f1f0ce6acfdd1639dacce40\", element=\"bf0857b7-f41a-49fc-8e5d-1f16a548fcf5\")>,\n",
       " <selenium.webdriver.remote.webelement.WebElement (session=\"8d41e3e62f1f0ce6acfdd1639dacce40\", element=\"f11f2d06-4915-4201-9c89-2216c7e40827\")>,\n",
       " <selenium.webdriver.remote.webelement.WebElement (session=\"8d41e3e62f1f0ce6acfdd1639dacce40\", element=\"253d62bf-231b-48f3-bb0a-7f41b1f5923c\")>,\n",
       " <selenium.webdriver.remote.webelement.WebElement (session=\"8d41e3e62f1f0ce6acfdd1639dacce40\", element=\"2ca43b06-29e8-4310-87b7-9bd5dab6d372\")>,\n",
       " <selenium.webdriver.remote.webelement.WebElement (session=\"8d41e3e62f1f0ce6acfdd1639dacce40\", element=\"a81d4ac1-f7a9-45fb-a5ff-ff60801e70d5\")>,\n",
       " <selenium.webdriver.remote.webelement.WebElement (session=\"8d41e3e62f1f0ce6acfdd1639dacce40\", element=\"c883190a-fe98-48e7-9618-159b9332385b\")>,\n",
       " <selenium.webdriver.remote.webelement.WebElement (session=\"8d41e3e62f1f0ce6acfdd1639dacce40\", element=\"5c45483d-0d84-46e7-a49e-bca10cd79af6\")>]"
      ]
     },
     "execution_count": 130,
     "metadata": {},
     "output_type": "execute_result"
    }
   ],
   "source": [
    "#Getting title tags details\n",
    "tit_tags=driver.find_elements_by_xpath(\"//a[@class='title fw500 ellipsis']\")\n",
    "tit_tag=tit_tags[0:10]\n",
    "tit_tag"
   ]
  },
  {
   "cell_type": "code",
   "execution_count": 131,
   "id": "0f4226aa",
   "metadata": {},
   "outputs": [
    {
     "data": {
      "text/plain": [
       "['Data Scientist',\n",
       " 'Data Scientist',\n",
       " 'Hiring For Data Scientist',\n",
       " 'Data Scientist/ Senior Data Scientist',\n",
       " 'Project Manager | Team Leader | Senior Data Scientist',\n",
       " 'Data Scientist',\n",
       " 'Job Opportunity || Data Scientist || HCL Technologies',\n",
       " 'NTT DATA_ Hiring For BIG DATA ,DATA Scientist, Devops',\n",
       " 'Data Scientist',\n",
       " 'Immediate requirement For Data Scientist']"
      ]
     },
     "execution_count": 131,
     "metadata": {},
     "output_type": "execute_result"
    }
   ],
   "source": [
    "#Getting titles\n",
    "for i in tit_tag:\n",
    "    title=i.text\n",
    "    job_ti.append(title)\n",
    "job_ti"
   ]
  },
  {
   "cell_type": "code",
   "execution_count": 132,
   "id": "b5c05c8d",
   "metadata": {},
   "outputs": [
    {
     "name": "stderr",
     "output_type": "stream",
     "text": [
      "C:\\Users\\DELLUS~1\\AppData\\Local\\Temp/ipykernel_6040/2151417610.py:2: DeprecationWarning: find_elements_by_* commands are deprecated. Please use find_elements() instead\n",
      "  comp_tags=driver.find_elements_by_xpath(\"//a[@class='subTitle ellipsis fleft']\")\n"
     ]
    },
    {
     "data": {
      "text/plain": [
       "[<selenium.webdriver.remote.webelement.WebElement (session=\"8d41e3e62f1f0ce6acfdd1639dacce40\", element=\"0c8210e9-aa38-430d-a758-9bb039e8b1ec\")>,\n",
       " <selenium.webdriver.remote.webelement.WebElement (session=\"8d41e3e62f1f0ce6acfdd1639dacce40\", element=\"68e4ef14-786d-4a1f-bd61-dbbbee231309\")>,\n",
       " <selenium.webdriver.remote.webelement.WebElement (session=\"8d41e3e62f1f0ce6acfdd1639dacce40\", element=\"6724302e-4aa7-4058-b753-c9c2ca2260b0\")>,\n",
       " <selenium.webdriver.remote.webelement.WebElement (session=\"8d41e3e62f1f0ce6acfdd1639dacce40\", element=\"0df82caf-f269-472f-8193-acd0cc6550ba\")>,\n",
       " <selenium.webdriver.remote.webelement.WebElement (session=\"8d41e3e62f1f0ce6acfdd1639dacce40\", element=\"acd71442-ba2d-48a2-b871-28404f908a89\")>,\n",
       " <selenium.webdriver.remote.webelement.WebElement (session=\"8d41e3e62f1f0ce6acfdd1639dacce40\", element=\"fe327ee6-a8bb-4334-853d-95e4ebdff711\")>,\n",
       " <selenium.webdriver.remote.webelement.WebElement (session=\"8d41e3e62f1f0ce6acfdd1639dacce40\", element=\"d36b4521-9939-40e1-afe7-8866a20cf65b\")>,\n",
       " <selenium.webdriver.remote.webelement.WebElement (session=\"8d41e3e62f1f0ce6acfdd1639dacce40\", element=\"95547dd5-16fc-46dc-9537-a098967f7158\")>,\n",
       " <selenium.webdriver.remote.webelement.WebElement (session=\"8d41e3e62f1f0ce6acfdd1639dacce40\", element=\"6fc210e3-8358-4b49-acd6-77d854265b68\")>,\n",
       " <selenium.webdriver.remote.webelement.WebElement (session=\"8d41e3e62f1f0ce6acfdd1639dacce40\", element=\"5e7465b1-03c4-47f8-83b7-c97c39f30866\")>]"
      ]
     },
     "execution_count": 132,
     "metadata": {},
     "output_type": "execute_result"
    }
   ],
   "source": [
    "#Getting Company tags detail\n",
    "comp_tags=driver.find_elements_by_xpath(\"//a[@class='subTitle ellipsis fleft']\")\n",
    "comp_tag=comp_tags[0:10]\n",
    "comp_tag"
   ]
  },
  {
   "cell_type": "code",
   "execution_count": 133,
   "id": "0bb1409a",
   "metadata": {},
   "outputs": [
    {
     "data": {
      "text/plain": [
       "['LG Electronics India Pvt. Ltd.',\n",
       " 'Navikenz India Pvt Ltd',\n",
       " 'Tata Consultancy Services Ltd.',\n",
       " 'Newgen Software Technologies',\n",
       " 'Tidyquant (OPC) Private Limited',\n",
       " 'Teleperformance',\n",
       " 'HCL Technologies',\n",
       " 'NTT Data Business Solutions Pvt Ltd',\n",
       " 'Country Veggie',\n",
       " 'CALIBEHR BUSINESS SUPPORT SERVICES PRIVATE LIMITED']"
      ]
     },
     "execution_count": 133,
     "metadata": {},
     "output_type": "execute_result"
    }
   ],
   "source": [
    "#Getting Company name\n",
    "for i in comp_tag:\n",
    "    company_name=i.text\n",
    "    comp_names.append(company_name)\n",
    "comp_names"
   ]
  },
  {
   "cell_type": "code",
   "execution_count": 134,
   "id": "c98fee74",
   "metadata": {},
   "outputs": [
    {
     "name": "stderr",
     "output_type": "stream",
     "text": [
      "C:\\Users\\DELLUS~1\\AppData\\Local\\Temp/ipykernel_6040/3688673977.py:2: DeprecationWarning: find_elements_by_* commands are deprecated. Please use find_elements() instead\n",
      "  exper_tags=driver.find_elements_by_xpath(\"//li[@class='fleft grey-text br2 placeHolderLi experience']/span[1]\")\n"
     ]
    },
    {
     "data": {
      "text/plain": [
       "[<selenium.webdriver.remote.webelement.WebElement (session=\"8d41e3e62f1f0ce6acfdd1639dacce40\", element=\"b388d98e-bacb-4706-9b84-e46176fc63bc\")>,\n",
       " <selenium.webdriver.remote.webelement.WebElement (session=\"8d41e3e62f1f0ce6acfdd1639dacce40\", element=\"0802603d-d1d3-4dd8-9966-6546c0c089d0\")>,\n",
       " <selenium.webdriver.remote.webelement.WebElement (session=\"8d41e3e62f1f0ce6acfdd1639dacce40\", element=\"e192f652-e323-4bd3-be8d-15762de1a543\")>,\n",
       " <selenium.webdriver.remote.webelement.WebElement (session=\"8d41e3e62f1f0ce6acfdd1639dacce40\", element=\"8baae764-a514-43f3-b775-0eaac0e13495\")>,\n",
       " <selenium.webdriver.remote.webelement.WebElement (session=\"8d41e3e62f1f0ce6acfdd1639dacce40\", element=\"1a42045b-791a-4ceb-ae27-c2c7982537af\")>,\n",
       " <selenium.webdriver.remote.webelement.WebElement (session=\"8d41e3e62f1f0ce6acfdd1639dacce40\", element=\"5ba2c2e2-0aa2-4736-a616-e6bb95f68324\")>,\n",
       " <selenium.webdriver.remote.webelement.WebElement (session=\"8d41e3e62f1f0ce6acfdd1639dacce40\", element=\"8ca4a93f-ca08-4746-99f0-07dbf6bd0e94\")>,\n",
       " <selenium.webdriver.remote.webelement.WebElement (session=\"8d41e3e62f1f0ce6acfdd1639dacce40\", element=\"ee802441-45e1-4f3e-9566-68fcc597893b\")>,\n",
       " <selenium.webdriver.remote.webelement.WebElement (session=\"8d41e3e62f1f0ce6acfdd1639dacce40\", element=\"bdbeef3f-011f-455d-813b-fc831a14ef92\")>,\n",
       " <selenium.webdriver.remote.webelement.WebElement (session=\"8d41e3e62f1f0ce6acfdd1639dacce40\", element=\"6b2ea2ab-6906-485e-9905-3b8eabf2cf5c\")>]"
      ]
     },
     "execution_count": 134,
     "metadata": {},
     "output_type": "execute_result"
    }
   ],
   "source": [
    "#Getting eprience tags details\n",
    "exper_tags=driver.find_elements_by_xpath(\"//li[@class='fleft grey-text br2 placeHolderLi experience']/span[1]\")\n",
    "exper_tag=exper_tags[0:10]\n",
    "exper_tag"
   ]
  },
  {
   "cell_type": "code",
   "execution_count": 135,
   "id": "cb67f481",
   "metadata": {},
   "outputs": [
    {
     "data": {
      "text/plain": [
       "['0-2 Yrs',\n",
       " '2-7 Yrs',\n",
       " '4-9 Yrs',\n",
       " '2-5 Yrs',\n",
       " '1-5 Yrs',\n",
       " '4-9 Yrs',\n",
       " '2-6 Yrs',\n",
       " '3-8 Yrs',\n",
       " '1-3 Yrs',\n",
       " '2-7 Yrs']"
      ]
     },
     "execution_count": 135,
     "metadata": {},
     "output_type": "execute_result"
    }
   ],
   "source": [
    "#Getting Experience details\n",
    "for i in exper_tag:\n",
    "    experience=i.text\n",
    "    exper_list.append(experience)\n",
    "exper_list"
   ]
  },
  {
   "cell_type": "code",
   "execution_count": 136,
   "id": "0e4b475d",
   "metadata": {},
   "outputs": [
    {
     "name": "stderr",
     "output_type": "stream",
     "text": [
      "C:\\Users\\DELLUS~1\\AppData\\Local\\Temp/ipykernel_6040/3870949741.py:2: DeprecationWarning: find_elements_by_* commands are deprecated. Please use find_elements() instead\n",
      "  loc_tags=driver.find_elements_by_xpath(\"//li[@class='fleft grey-text br2 placeHolderLi location']/span[1]\")\n"
     ]
    },
    {
     "data": {
      "text/plain": [
       "[<selenium.webdriver.remote.webelement.WebElement (session=\"8d41e3e62f1f0ce6acfdd1639dacce40\", element=\"69d95fcd-fc27-44d3-858d-985888948929\")>,\n",
       " <selenium.webdriver.remote.webelement.WebElement (session=\"8d41e3e62f1f0ce6acfdd1639dacce40\", element=\"f4061b13-9196-4f82-8abf-7bc44e5ec1a3\")>,\n",
       " <selenium.webdriver.remote.webelement.WebElement (session=\"8d41e3e62f1f0ce6acfdd1639dacce40\", element=\"86c63bfa-64a5-491a-b05a-6c742636f625\")>,\n",
       " <selenium.webdriver.remote.webelement.WebElement (session=\"8d41e3e62f1f0ce6acfdd1639dacce40\", element=\"ae7c43ef-c10d-4c07-b42c-b154b80b361f\")>,\n",
       " <selenium.webdriver.remote.webelement.WebElement (session=\"8d41e3e62f1f0ce6acfdd1639dacce40\", element=\"5418f81d-33d7-41a9-8910-2df4b58ca634\")>,\n",
       " <selenium.webdriver.remote.webelement.WebElement (session=\"8d41e3e62f1f0ce6acfdd1639dacce40\", element=\"9bbf66d6-3ca7-4c70-a582-cd0b23d3328f\")>,\n",
       " <selenium.webdriver.remote.webelement.WebElement (session=\"8d41e3e62f1f0ce6acfdd1639dacce40\", element=\"bdef4b93-1994-482a-befe-21501526a28d\")>,\n",
       " <selenium.webdriver.remote.webelement.WebElement (session=\"8d41e3e62f1f0ce6acfdd1639dacce40\", element=\"1b3ed1e0-4b0b-41c4-8cbf-64245780c719\")>,\n",
       " <selenium.webdriver.remote.webelement.WebElement (session=\"8d41e3e62f1f0ce6acfdd1639dacce40\", element=\"87052be2-f20d-4df5-b96f-6d319fc25f08\")>,\n",
       " <selenium.webdriver.remote.webelement.WebElement (session=\"8d41e3e62f1f0ce6acfdd1639dacce40\", element=\"cffafc68-d403-4d37-b3b7-8964dc951291\")>]"
      ]
     },
     "execution_count": 136,
     "metadata": {},
     "output_type": "execute_result"
    }
   ],
   "source": [
    "#Getting Location tags details\n",
    "loc_tags=driver.find_elements_by_xpath(\"//li[@class='fleft grey-text br2 placeHolderLi location']/span[1]\")\n",
    "loc_tag=loc_tags[0:10]\n",
    "loc_tag"
   ]
  },
  {
   "cell_type": "code",
   "execution_count": 137,
   "id": "fd82c738",
   "metadata": {},
   "outputs": [
    {
     "data": {
      "text/plain": [
       "['Noida, New Delhi, Faridabad, Gurgaon/Gurugram, Delhi / NCR',\n",
       " 'Noida, Nodia',\n",
       " 'Hyderabad/Secunderabad, Pune, Chennai, Bangalore/Bengaluru, Delhi / NCR, Mumbai (All Areas)',\n",
       " 'Noida',\n",
       " 'Remote',\n",
       " 'Gurgaon/Gurugram, Chennai',\n",
       " 'Delhi / NCR',\n",
       " 'Noida, Kolkata, Hyderabad/Secunderabad, Ahmedabad, Chennai, Coimbatore, Bangalore/Bengaluru, Delhi / NCR, Mumbai (All Areas)',\n",
       " 'Bharuch, Jaipur, Bhopal, Mumbai, Jhansi, Nagpur, Ghaziabad, Jaunpur, Kanpur, Delhi, Lucknow, Agra, Gurgaon, Rajkot, Bengaluru',\n",
       " 'Mumbai, Hyderabad/Secunderabad, Pune, Chennai, Tamia, Bangalore/Bengaluru, Delhi / NCR']"
      ]
     },
     "execution_count": 137,
     "metadata": {},
     "output_type": "execute_result"
    }
   ],
   "source": [
    "#Getting location details\n",
    "for i in loc_tag:\n",
    "    location=i.text\n",
    "    locat_list.append(location)\n",
    "locat_list"
   ]
  },
  {
   "cell_type": "code",
   "execution_count": 138,
   "id": "5ea0632d",
   "metadata": {},
   "outputs": [
    {
     "name": "stdout",
     "output_type": "stream",
     "text": [
      "10 10 10 10\n"
     ]
    }
   ],
   "source": [
    "print(len(job_ti),len(comp_names),len(exper_list),len(locat_list))"
   ]
  },
  {
   "cell_type": "code",
   "execution_count": 140,
   "id": "1ab88159",
   "metadata": {},
   "outputs": [],
   "source": [
    "#Creating a Dataframe\n",
    "job_new=pd.DataFrame({})\n",
    "job_new['title']=job_ti\n",
    "job_new['location']=locat_list\n",
    "job_new['company']=comp_names\n",
    "job_new['experience required']=exper_list"
   ]
  },
  {
   "cell_type": "code",
   "execution_count": 141,
   "id": "bf561585",
   "metadata": {},
   "outputs": [
    {
     "data": {
      "text/html": [
       "<div>\n",
       "<style scoped>\n",
       "    .dataframe tbody tr th:only-of-type {\n",
       "        vertical-align: middle;\n",
       "    }\n",
       "\n",
       "    .dataframe tbody tr th {\n",
       "        vertical-align: top;\n",
       "    }\n",
       "\n",
       "    .dataframe thead th {\n",
       "        text-align: right;\n",
       "    }\n",
       "</style>\n",
       "<table border=\"1\" class=\"dataframe\">\n",
       "  <thead>\n",
       "    <tr style=\"text-align: right;\">\n",
       "      <th></th>\n",
       "      <th>title</th>\n",
       "      <th>location</th>\n",
       "      <th>company</th>\n",
       "      <th>experience required</th>\n",
       "    </tr>\n",
       "  </thead>\n",
       "  <tbody>\n",
       "    <tr>\n",
       "      <th>0</th>\n",
       "      <td>Data Scientist</td>\n",
       "      <td>Noida, New Delhi, Faridabad, Gurgaon/Gurugram,...</td>\n",
       "      <td>LG Electronics India Pvt. Ltd.</td>\n",
       "      <td>0-2 Yrs</td>\n",
       "    </tr>\n",
       "    <tr>\n",
       "      <th>1</th>\n",
       "      <td>Data Scientist</td>\n",
       "      <td>Noida, Nodia</td>\n",
       "      <td>Navikenz India Pvt Ltd</td>\n",
       "      <td>2-7 Yrs</td>\n",
       "    </tr>\n",
       "    <tr>\n",
       "      <th>2</th>\n",
       "      <td>Hiring For Data Scientist</td>\n",
       "      <td>Hyderabad/Secunderabad, Pune, Chennai, Bangalo...</td>\n",
       "      <td>Tata Consultancy Services Ltd.</td>\n",
       "      <td>4-9 Yrs</td>\n",
       "    </tr>\n",
       "    <tr>\n",
       "      <th>3</th>\n",
       "      <td>Data Scientist/ Senior Data Scientist</td>\n",
       "      <td>Noida</td>\n",
       "      <td>Newgen Software Technologies</td>\n",
       "      <td>2-5 Yrs</td>\n",
       "    </tr>\n",
       "    <tr>\n",
       "      <th>4</th>\n",
       "      <td>Project Manager | Team Leader | Senior Data Sc...</td>\n",
       "      <td>Remote</td>\n",
       "      <td>Tidyquant (OPC) Private Limited</td>\n",
       "      <td>1-5 Yrs</td>\n",
       "    </tr>\n",
       "    <tr>\n",
       "      <th>5</th>\n",
       "      <td>Data Scientist</td>\n",
       "      <td>Gurgaon/Gurugram, Chennai</td>\n",
       "      <td>Teleperformance</td>\n",
       "      <td>4-9 Yrs</td>\n",
       "    </tr>\n",
       "    <tr>\n",
       "      <th>6</th>\n",
       "      <td>Job Opportunity || Data Scientist || HCL Techn...</td>\n",
       "      <td>Delhi / NCR</td>\n",
       "      <td>HCL Technologies</td>\n",
       "      <td>2-6 Yrs</td>\n",
       "    </tr>\n",
       "    <tr>\n",
       "      <th>7</th>\n",
       "      <td>NTT DATA_ Hiring For BIG DATA ,DATA Scientist,...</td>\n",
       "      <td>Noida, Kolkata, Hyderabad/Secunderabad, Ahmeda...</td>\n",
       "      <td>NTT Data Business Solutions Pvt Ltd</td>\n",
       "      <td>3-8 Yrs</td>\n",
       "    </tr>\n",
       "    <tr>\n",
       "      <th>8</th>\n",
       "      <td>Data Scientist</td>\n",
       "      <td>Bharuch, Jaipur, Bhopal, Mumbai, Jhansi, Nagpu...</td>\n",
       "      <td>Country Veggie</td>\n",
       "      <td>1-3 Yrs</td>\n",
       "    </tr>\n",
       "    <tr>\n",
       "      <th>9</th>\n",
       "      <td>Immediate requirement For Data Scientist</td>\n",
       "      <td>Mumbai, Hyderabad/Secunderabad, Pune, Chennai,...</td>\n",
       "      <td>CALIBEHR BUSINESS SUPPORT SERVICES PRIVATE LIM...</td>\n",
       "      <td>2-7 Yrs</td>\n",
       "    </tr>\n",
       "  </tbody>\n",
       "</table>\n",
       "</div>"
      ],
      "text/plain": [
       "                                               title  \\\n",
       "0                                     Data Scientist   \n",
       "1                                     Data Scientist   \n",
       "2                          Hiring For Data Scientist   \n",
       "3              Data Scientist/ Senior Data Scientist   \n",
       "4  Project Manager | Team Leader | Senior Data Sc...   \n",
       "5                                     Data Scientist   \n",
       "6  Job Opportunity || Data Scientist || HCL Techn...   \n",
       "7  NTT DATA_ Hiring For BIG DATA ,DATA Scientist,...   \n",
       "8                                     Data Scientist   \n",
       "9           Immediate requirement For Data Scientist   \n",
       "\n",
       "                                            location  \\\n",
       "0  Noida, New Delhi, Faridabad, Gurgaon/Gurugram,...   \n",
       "1                                       Noida, Nodia   \n",
       "2  Hyderabad/Secunderabad, Pune, Chennai, Bangalo...   \n",
       "3                                              Noida   \n",
       "4                                             Remote   \n",
       "5                          Gurgaon/Gurugram, Chennai   \n",
       "6                                        Delhi / NCR   \n",
       "7  Noida, Kolkata, Hyderabad/Secunderabad, Ahmeda...   \n",
       "8  Bharuch, Jaipur, Bhopal, Mumbai, Jhansi, Nagpu...   \n",
       "9  Mumbai, Hyderabad/Secunderabad, Pune, Chennai,...   \n",
       "\n",
       "                                             company experience required  \n",
       "0                     LG Electronics India Pvt. Ltd.             0-2 Yrs  \n",
       "1                             Navikenz India Pvt Ltd             2-7 Yrs  \n",
       "2                     Tata Consultancy Services Ltd.             4-9 Yrs  \n",
       "3                       Newgen Software Technologies             2-5 Yrs  \n",
       "4                    Tidyquant (OPC) Private Limited             1-5 Yrs  \n",
       "5                                    Teleperformance             4-9 Yrs  \n",
       "6                                   HCL Technologies             2-6 Yrs  \n",
       "7                NTT Data Business Solutions Pvt Ltd             3-8 Yrs  \n",
       "8                                     Country Veggie             1-3 Yrs  \n",
       "9  CALIBEHR BUSINESS SUPPORT SERVICES PRIVATE LIM...             2-7 Yrs  "
      ]
     },
     "execution_count": 141,
     "metadata": {},
     "output_type": "execute_result"
    }
   ],
   "source": [
    "job_new"
   ]
  },
  {
   "cell_type": "markdown",
   "id": "83ab918f",
   "metadata": {},
   "source": [
    "# Q4"
   ]
  },
  {
   "cell_type": "code",
   "execution_count": 4,
   "id": "1e94aec1",
   "metadata": {},
   "outputs": [],
   "source": [
    "s = Service('D:/Data_Science/chromedriver_win32/chromedriver.exe')\n",
    "driver = webdriver.Chrome(service=s)"
   ]
  },
  {
   "cell_type": "code",
   "execution_count": 5,
   "id": "990c3668",
   "metadata": {},
   "outputs": [],
   "source": [
    "#Getting the Webpage\n",
    "driver.get('https://www.flipkart.com/')"
   ]
  },
  {
   "cell_type": "code",
   "execution_count": 6,
   "id": "7dff135a",
   "metadata": {},
   "outputs": [
    {
     "name": "stderr",
     "output_type": "stream",
     "text": [
      "C:\\Users\\DELLUS~1\\AppData\\Local\\Temp/ipykernel_1724/1139497511.py:1: DeprecationWarning: find_element_by_* commands are deprecated. Please use find_element() instead\n",
      "  cls_btn = driver.find_element_by_xpath(\"//div[@class='_2QfC02']/button\")\n"
     ]
    }
   ],
   "source": [
    "cls_btn = driver.find_element_by_xpath(\"//div[@class='_2QfC02']/button\")\n",
    "cls_btn.click()"
   ]
  },
  {
   "cell_type": "code",
   "execution_count": 7,
   "id": "a4fc10ee",
   "metadata": {},
   "outputs": [
    {
     "name": "stderr",
     "output_type": "stream",
     "text": [
      "C:\\Users\\DELLUS~1\\AppData\\Local\\Temp/ipykernel_1724/163890806.py:2: DeprecationWarning: find_element_by_* commands are deprecated. Please use find_element() instead\n",
      "  search_prod = driver.find_element_by_xpath(\"//input[@name='q']\")\n"
     ]
    }
   ],
   "source": [
    "#Entering the product\n",
    "search_prod = driver.find_element_by_xpath(\"//input[@name='q']\")\n",
    "search_prod.send_keys('sunglasses')"
   ]
  },
  {
   "cell_type": "code",
   "execution_count": 8,
   "id": "d5128b6a",
   "metadata": {},
   "outputs": [
    {
     "name": "stderr",
     "output_type": "stream",
     "text": [
      "C:\\Users\\DELLUS~1\\AppData\\Local\\Temp/ipykernel_1724/2620359872.py:1: DeprecationWarning: find_element_by_* commands are deprecated. Please use find_element() instead\n",
      "  search_bar = driver.find_element_by_xpath(\"//button[@class='L0Z3Pu']\")\n"
     ]
    }
   ],
   "source": [
    "search_bar = driver.find_element_by_xpath(\"//button[@class='L0Z3Pu']\")\n",
    "search_bar.click()"
   ]
  },
  {
   "cell_type": "code",
   "execution_count": 9,
   "id": "b82c86ad",
   "metadata": {},
   "outputs": [],
   "source": [
    "brand_list=[]\n",
    "pd_list=[]\n",
    "price_list=[]\n",
    "off_list=[]"
   ]
  },
  {
   "cell_type": "code",
   "execution_count": 10,
   "id": "5fe5bd07",
   "metadata": {},
   "outputs": [
    {
     "name": "stderr",
     "output_type": "stream",
     "text": [
      "C:\\Users\\DELLUS~1\\AppData\\Local\\Temp/ipykernel_1724/371066189.py:2: DeprecationWarning: find_elements_by_* commands are deprecated. Please use find_elements() instead\n",
      "  brand_tags2=driver.find_elements_by_xpath(\"//div[@class='_2WkVRV']\")\n",
      "C:\\Users\\DELLUS~1\\AppData\\Local\\Temp/ipykernel_1724/371066189.py:7: DeprecationWarning: find_elements_by_* commands are deprecated. Please use find_elements() instead\n",
      "  price_tags2=driver.find_elements_by_xpath(\"//div[@class='_30jeq3']\")\n",
      "C:\\Users\\DELLUS~1\\AppData\\Local\\Temp/ipykernel_1724/371066189.py:12: DeprecationWarning: find_elements_by_* commands are deprecated. Please use find_elements() instead\n",
      "  pd_tags2=driver.find_elements_by_xpath(\"//a[@class='IRpwTa']\")\n",
      "C:\\Users\\DELLUS~1\\AppData\\Local\\Temp/ipykernel_1724/371066189.py:17: DeprecationWarning: find_elements_by_* commands are deprecated. Please use find_elements() instead\n",
      "  off_tags2=driver.find_elements_by_xpath(\"//div[@class='_3Ay6Sb']/span\")\n",
      "C:\\Users\\DELLUS~1\\AppData\\Local\\Temp/ipykernel_1724/371066189.py:22: DeprecationWarning: find_elements_by_* commands are deprecated. Please use find_elements() instead\n",
      "  next_btn = driver.find_elements_by_xpath('//a[@class=\"_1LKTO3\"]')[-1]\n"
     ]
    }
   ],
   "source": [
    "if (len(brand_list) < 40):\n",
    "    brand_tags2=driver.find_elements_by_xpath(\"//div[@class='_2WkVRV']\")\n",
    "    for i in brand_tags2:\n",
    "        brand=i.text\n",
    "        brand_list.append(brand)\n",
    "    #brand_list\n",
    "    price_tags2=driver.find_elements_by_xpath(\"//div[@class='_30jeq3']\")\n",
    "    for j in price_tags2:\n",
    "        price=j.text.replace('₹','')\n",
    "        price_list.append(price)\n",
    "    #price_list\n",
    "    pd_tags2=driver.find_elements_by_xpath(\"//a[@class='IRpwTa']\")\n",
    "    for k in pd_tags2:\n",
    "        pd=k.text\n",
    "        pd_list.append(pd)\n",
    "    #pd_list\n",
    "    off_tags2=driver.find_elements_by_xpath(\"//div[@class='_3Ay6Sb']/span\")\n",
    "    for l in off_tags2:\n",
    "        off=l.text\n",
    "        off_list.append(off)\n",
    "    #off_list\n",
    "    next_btn = driver.find_elements_by_xpath('//a[@class=\"_1LKTO3\"]')[-1]\n",
    "    next_btn.click()"
   ]
  },
  {
   "cell_type": "code",
   "execution_count": 11,
   "id": "99f44dc6",
   "metadata": {},
   "outputs": [
    {
     "name": "stderr",
     "output_type": "stream",
     "text": [
      "C:\\Users\\DELLUS~1\\AppData\\Local\\Temp/ipykernel_1724/2755522774.py:2: DeprecationWarning: find_elements_by_* commands are deprecated. Please use find_elements() instead\n",
      "  brand_tags2=driver.find_elements_by_xpath(\"//div[@class='_2WkVRV']\")\n",
      "C:\\Users\\DELLUS~1\\AppData\\Local\\Temp/ipykernel_1724/2755522774.py:7: DeprecationWarning: find_elements_by_* commands are deprecated. Please use find_elements() instead\n",
      "  price_tags2=driver.find_elements_by_xpath(\"//div[@class='_30jeq3']\")\n",
      "C:\\Users\\DELLUS~1\\AppData\\Local\\Temp/ipykernel_1724/2755522774.py:12: DeprecationWarning: find_elements_by_* commands are deprecated. Please use find_elements() instead\n",
      "  pd_tags2=driver.find_elements_by_xpath(\"//a[@class='IRpwTa']\")\n",
      "C:\\Users\\DELLUS~1\\AppData\\Local\\Temp/ipykernel_1724/2755522774.py:17: DeprecationWarning: find_elements_by_* commands are deprecated. Please use find_elements() instead\n",
      "  off_tags2=driver.find_elements_by_xpath(\"//div[@class='_3Ay6Sb']/span\")\n",
      "C:\\Users\\DELLUS~1\\AppData\\Local\\Temp/ipykernel_1724/2755522774.py:22: DeprecationWarning: find_elements_by_* commands are deprecated. Please use find_elements() instead\n",
      "  next_btn = driver.find_elements_by_xpath('//a[@class=\"_1LKTO3\"]')[-1]\n"
     ]
    }
   ],
   "source": [
    "if (len(brand_list) < 80):\n",
    "    brand_tags2=driver.find_elements_by_xpath(\"//div[@class='_2WkVRV']\")\n",
    "    for i in brand_tags2:\n",
    "        brand=i.text\n",
    "        brand_list.append(brand)\n",
    "    #brand_list\n",
    "    price_tags2=driver.find_elements_by_xpath(\"//div[@class='_30jeq3']\")\n",
    "    for j in price_tags2:\n",
    "        price=j.text.replace('₹','')\n",
    "        price_list.append(price)\n",
    "    #price_list\n",
    "    pd_tags2=driver.find_elements_by_xpath(\"//a[@class='IRpwTa']\")\n",
    "    for k in pd_tags2:\n",
    "        pd=k.text\n",
    "        pd_list.append(pd)\n",
    "    #pd_list\n",
    "    off_tags2=driver.find_elements_by_xpath(\"//div[@class='_3Ay6Sb']/span\")\n",
    "    for l in off_tags2:\n",
    "        off=l.text\n",
    "        off_list.append(off)\n",
    "    #off_list\n",
    "    next_btn = driver.find_elements_by_xpath('//a[@class=\"_1LKTO3\"]')[-1]\n",
    "    next_btn.click()"
   ]
  },
  {
   "cell_type": "code",
   "execution_count": 12,
   "id": "73211f29",
   "metadata": {},
   "outputs": [
    {
     "name": "stderr",
     "output_type": "stream",
     "text": [
      "C:\\Users\\DELLUS~1\\AppData\\Local\\Temp/ipykernel_1724/3033805192.py:2: DeprecationWarning: find_elements_by_* commands are deprecated. Please use find_elements() instead\n",
      "  brand_tags3=driver.find_elements_by_xpath(\"//div[@class='_2WkVRV']\")\n",
      "C:\\Users\\DELLUS~1\\AppData\\Local\\Temp/ipykernel_1724/3033805192.py:7: DeprecationWarning: find_elements_by_* commands are deprecated. Please use find_elements() instead\n",
      "  price_tags3=driver.find_elements_by_xpath(\"//div[@class='_30jeq3']\")\n",
      "C:\\Users\\DELLUS~1\\AppData\\Local\\Temp/ipykernel_1724/3033805192.py:12: DeprecationWarning: find_elements_by_* commands are deprecated. Please use find_elements() instead\n",
      "  pd_tags3=driver.find_elements_by_xpath(\"//a[@class='IRpwTa']\")\n",
      "C:\\Users\\DELLUS~1\\AppData\\Local\\Temp/ipykernel_1724/3033805192.py:17: DeprecationWarning: find_elements_by_* commands are deprecated. Please use find_elements() instead\n",
      "  off_tags3=driver.find_elements_by_xpath(\"//div[@class='_3Ay6Sb']/span\")\n"
     ]
    }
   ],
   "source": [
    "if (len(brand_list) < 120):\n",
    "    brand_tags3=driver.find_elements_by_xpath(\"//div[@class='_2WkVRV']\")\n",
    "    for i in brand_tags3:\n",
    "        brand=i.text\n",
    "        brand_list.append(brand)\n",
    "    #brand_list\n",
    "    price_tags3=driver.find_elements_by_xpath(\"//div[@class='_30jeq3']\")\n",
    "    for j in price_tags3:\n",
    "        price=j.text.replace('₹','')\n",
    "        price_list.append(price)\n",
    "    #price_list\n",
    "    pd_tags3=driver.find_elements_by_xpath(\"//a[@class='IRpwTa']\")\n",
    "    for k in pd_tags3:\n",
    "        pd=k.text\n",
    "        pd_list.append(pd)\n",
    "    #pd_list\n",
    "    off_tags3=driver.find_elements_by_xpath(\"//div[@class='_3Ay6Sb']/span\")\n",
    "    for l in off_tags3:\n",
    "        off=l.text\n",
    "        off_list.append(off)\n",
    "    #off_list"
   ]
  },
  {
   "cell_type": "code",
   "execution_count": 13,
   "id": "657dde64",
   "metadata": {},
   "outputs": [],
   "source": [
    "#print(list(price_list))\n",
    "#print(len(brand_list),len(price_list),len(pd_list),len(off_list))\n",
    "brand_list_100=brand_list[0:100]\n",
    "price_list_100=price_list[0:100]\n",
    "pd_list_100=pd_list[0:100]\n",
    "off_list_100=off_list[0:100]"
   ]
  },
  {
   "cell_type": "code",
   "execution_count": 14,
   "id": "c79068bb",
   "metadata": {},
   "outputs": [
    {
     "name": "stdout",
     "output_type": "stream",
     "text": [
      "100 100 100 100\n"
     ]
    }
   ],
   "source": [
    "print(len(brand_list_100),len(price_list_100),len(pd_list_100),len(off_list_100))"
   ]
  },
  {
   "cell_type": "code",
   "execution_count": 17,
   "id": "fd62c6e2",
   "metadata": {
    "scrolled": false
   },
   "outputs": [],
   "source": [
    "import pandas as pd\n",
    "sun_glas=pd.DataFrame({})\n",
    "sun_glas['Brand']=brand_list_100\n",
    "sun_glas['Product Description']=pd_list_100\n",
    "sun_glas['Price']=price_list_100\n",
    "sun_glas['Off']=off_list_100"
   ]
  },
  {
   "cell_type": "code",
   "execution_count": 18,
   "id": "313230e4",
   "metadata": {},
   "outputs": [
    {
     "data": {
      "text/html": [
       "<div>\n",
       "<style scoped>\n",
       "    .dataframe tbody tr th:only-of-type {\n",
       "        vertical-align: middle;\n",
       "    }\n",
       "\n",
       "    .dataframe tbody tr th {\n",
       "        vertical-align: top;\n",
       "    }\n",
       "\n",
       "    .dataframe thead th {\n",
       "        text-align: right;\n",
       "    }\n",
       "</style>\n",
       "<table border=\"1\" class=\"dataframe\">\n",
       "  <thead>\n",
       "    <tr style=\"text-align: right;\">\n",
       "      <th></th>\n",
       "      <th>Brand</th>\n",
       "      <th>Product Description</th>\n",
       "      <th>Price</th>\n",
       "      <th>Off</th>\n",
       "    </tr>\n",
       "  </thead>\n",
       "  <tbody>\n",
       "    <tr>\n",
       "      <th>0</th>\n",
       "      <td>Kanishka</td>\n",
       "      <td>UV Protection Aviator Sunglasses (55)</td>\n",
       "      <td>165</td>\n",
       "      <td>86% off</td>\n",
       "    </tr>\n",
       "    <tr>\n",
       "      <th>1</th>\n",
       "      <td>Kanishka</td>\n",
       "      <td>Others Round Sunglasses (55)</td>\n",
       "      <td>151</td>\n",
       "      <td>84% off</td>\n",
       "    </tr>\n",
       "    <tr>\n",
       "      <th>2</th>\n",
       "      <td>SRPM</td>\n",
       "      <td>UV Protection Wayfarer Sunglasses (56)</td>\n",
       "      <td>188</td>\n",
       "      <td>85% off</td>\n",
       "    </tr>\n",
       "    <tr>\n",
       "      <th>3</th>\n",
       "      <td>Elligator</td>\n",
       "      <td>UV Protection Round Sunglasses (54)</td>\n",
       "      <td>248</td>\n",
       "      <td>90% off</td>\n",
       "    </tr>\n",
       "    <tr>\n",
       "      <th>4</th>\n",
       "      <td>New Specs</td>\n",
       "      <td>UV Protection Rectangular Sunglasses (Free Size)</td>\n",
       "      <td>259</td>\n",
       "      <td>87% off</td>\n",
       "    </tr>\n",
       "    <tr>\n",
       "      <th>...</th>\n",
       "      <td>...</td>\n",
       "      <td>...</td>\n",
       "      <td>...</td>\n",
       "      <td>...</td>\n",
       "    </tr>\n",
       "    <tr>\n",
       "      <th>95</th>\n",
       "      <td>VINCENT CHASE</td>\n",
       "      <td>UV Protection Wayfarer Sunglasses (55)</td>\n",
       "      <td>999</td>\n",
       "      <td>50% off</td>\n",
       "    </tr>\n",
       "    <tr>\n",
       "      <th>96</th>\n",
       "      <td>PHENOMENAL</td>\n",
       "      <td>UV Protection, Others Retro Square Sunglasses ...</td>\n",
       "      <td>299</td>\n",
       "      <td>85% off</td>\n",
       "    </tr>\n",
       "    <tr>\n",
       "      <th>97</th>\n",
       "      <td>hipe</td>\n",
       "      <td>Riding Glasses, UV Protection, Others Aviator ...</td>\n",
       "      <td>189</td>\n",
       "      <td>85% off</td>\n",
       "    </tr>\n",
       "    <tr>\n",
       "      <th>98</th>\n",
       "      <td>SRPM</td>\n",
       "      <td>UV Protection Cat-eye Sunglasses (55)</td>\n",
       "      <td>199</td>\n",
       "      <td>80% off</td>\n",
       "    </tr>\n",
       "    <tr>\n",
       "      <th>99</th>\n",
       "      <td>ROYAL SON</td>\n",
       "      <td>UV Protection, Mirrored Wayfarer Sunglasses (53)</td>\n",
       "      <td>664</td>\n",
       "      <td>55% off</td>\n",
       "    </tr>\n",
       "  </tbody>\n",
       "</table>\n",
       "<p>100 rows × 4 columns</p>\n",
       "</div>"
      ],
      "text/plain": [
       "            Brand                                Product Description Price  \\\n",
       "0        Kanishka              UV Protection Aviator Sunglasses (55)   165   \n",
       "1        Kanishka                       Others Round Sunglasses (55)   151   \n",
       "2            SRPM             UV Protection Wayfarer Sunglasses (56)   188   \n",
       "3       Elligator                UV Protection Round Sunglasses (54)   248   \n",
       "4       New Specs   UV Protection Rectangular Sunglasses (Free Size)   259   \n",
       "..            ...                                                ...   ...   \n",
       "95  VINCENT CHASE             UV Protection Wayfarer Sunglasses (55)   999   \n",
       "96     PHENOMENAL  UV Protection, Others Retro Square Sunglasses ...   299   \n",
       "97           hipe  Riding Glasses, UV Protection, Others Aviator ...   189   \n",
       "98           SRPM              UV Protection Cat-eye Sunglasses (55)   199   \n",
       "99      ROYAL SON   UV Protection, Mirrored Wayfarer Sunglasses (53)   664   \n",
       "\n",
       "        Off  \n",
       "0   86% off  \n",
       "1   84% off  \n",
       "2   85% off  \n",
       "3   90% off  \n",
       "4   87% off  \n",
       "..      ...  \n",
       "95  50% off  \n",
       "96  85% off  \n",
       "97  85% off  \n",
       "98  80% off  \n",
       "99  55% off  \n",
       "\n",
       "[100 rows x 4 columns]"
      ]
     },
     "execution_count": 18,
     "metadata": {},
     "output_type": "execute_result"
    }
   ],
   "source": [
    "sun_glas"
   ]
  },
  {
   "cell_type": "code",
   "execution_count": 19,
   "id": "4b2465c8",
   "metadata": {},
   "outputs": [],
   "source": [
    "driver.close()"
   ]
  },
  {
   "cell_type": "markdown",
   "id": "4f48bb2c",
   "metadata": {},
   "source": [
    "# Q5"
   ]
  },
  {
   "cell_type": "code",
   "execution_count": 2,
   "id": "88a22531",
   "metadata": {},
   "outputs": [],
   "source": [
    "s = Service('D:/Data_Science/chromedriver_win32/chromedriver.exe')\n",
    "driver = webdriver.Chrome(service=s)"
   ]
  },
  {
   "cell_type": "code",
   "execution_count": 3,
   "id": "be153c9c",
   "metadata": {},
   "outputs": [],
   "source": [
    "url='https://www.flipkart.com/apple-iphone-11-black-64-gb-includes- earpods-poweradapter/p/itm0f37c2240b217?pid=MOBFKCTSVZAXUHGR&lid=LSTMOBFKCTSVZAXUHGREPBFGI&marketplace'"
   ]
  },
  {
   "cell_type": "code",
   "execution_count": 4,
   "id": "8316e25b",
   "metadata": {},
   "outputs": [],
   "source": [
    "driver.get(url)"
   ]
  },
  {
   "cell_type": "code",
   "execution_count": 5,
   "id": "b85b5de2",
   "metadata": {},
   "outputs": [
    {
     "name": "stderr",
     "output_type": "stream",
     "text": [
      "C:\\Users\\DELLUS~1\\AppData\\Local\\Temp/ipykernel_6424/2468087471.py:1: DeprecationWarning: find_element_by_* commands are deprecated. Please use find_element() instead\n",
      "  allreview_btn = driver.find_element_by_xpath(\"//div[@class='_3UAT2v _16PBlm']/span\")\n"
     ]
    }
   ],
   "source": [
    "allreview_btn = driver.find_element_by_xpath(\"//div[@class='_3UAT2v _16PBlm']/span\")\n",
    "allreview_btn.click()"
   ]
  },
  {
   "cell_type": "code",
   "execution_count": 13,
   "id": "bf65d528",
   "metadata": {},
   "outputs": [],
   "source": [
    "rating_list=[]\n",
    "review_summary=[]\n",
    "full_review=[]"
   ]
  },
  {
   "cell_type": "code",
   "execution_count": 14,
   "id": "e2493f73",
   "metadata": {},
   "outputs": [
    {
     "name": "stderr",
     "output_type": "stream",
     "text": [
      "C:\\Users\\DELLUS~1\\AppData\\Local\\Temp/ipykernel_6424/380673545.py:4: DeprecationWarning: find_elements_by_* commands are deprecated. Please use find_elements() instead\n",
      "  rating_tags=driver.find_elements_by_xpath(\"//div[@class='_3LWZlK _1BLPMq']\")\n",
      "C:\\Users\\DELLUS~1\\AppData\\Local\\Temp/ipykernel_6424/380673545.py:9: DeprecationWarning: find_elements_by_* commands are deprecated. Please use find_elements() instead\n",
      "  revsum_tags=driver.find_elements_by_xpath(\"//p[@class='_2-N8zT']\")\n",
      "C:\\Users\\DELLUS~1\\AppData\\Local\\Temp/ipykernel_6424/380673545.py:14: DeprecationWarning: find_elements_by_* commands are deprecated. Please use find_elements() instead\n",
      "  frev_tags=driver.find_elements_by_xpath(\"//div[@class='t-ZTKy']\")\n",
      "C:\\Users\\DELLUS~1\\AppData\\Local\\Temp/ipykernel_6424/380673545.py:21: DeprecationWarning: find_elements_by_* commands are deprecated. Please use find_elements() instead\n",
      "  next_btn = driver.find_elements_by_xpath('//a[@class=\"_1LKTO3\"]')[-1]\n"
     ]
    }
   ],
   "source": [
    "import time\n",
    "#counter=1\n",
    "while (len(rating_list) < 100 or len(review_summary) < 100 or len(full_review) < 100):\n",
    "    rating_tags=driver.find_elements_by_xpath(\"//div[@class='_3LWZlK _1BLPMq']\")\n",
    "    for i in rating_tags:\n",
    "        rating=i.text\n",
    "        rating_list.append(rating)\n",
    "#rating_list[0:4]\n",
    "    revsum_tags=driver.find_elements_by_xpath(\"//p[@class='_2-N8zT']\")\n",
    "    for j in revsum_tags:\n",
    "        rev=j.text.replace('\\n',' ')\n",
    "        review_summary.append(rev)\n",
    "#review_summary\n",
    "    frev_tags=driver.find_elements_by_xpath(\"//div[@class='t-ZTKy']\")\n",
    "    for k in frev_tags:\n",
    "        frev=k.text.replace('\\n',' ')\n",
    "        full_review.append(frev)\n",
    "#rating_list[0:4]\n",
    "    \n",
    "   # if ( ):\n",
    "    next_btn = driver.find_elements_by_xpath('//a[@class=\"_1LKTO3\"]')[-1]\n",
    "    next_btn.click()\n",
    "    time.sleep(5) \n",
    "        #counter=counter+1"
   ]
  },
  {
   "cell_type": "code",
   "execution_count": 15,
   "id": "23838ccd",
   "metadata": {},
   "outputs": [],
   "source": [
    "import pandas as pd\n",
    "iphone_r=pd.DataFrame({})\n",
    "iphone_r['Rating']=rating_list[0:100]\n",
    "iphone_r['Review_summary']=review_summary[0:100]\n",
    "iphone_r['Full review']=full_review[0:100]"
   ]
  },
  {
   "cell_type": "code",
   "execution_count": 16,
   "id": "11bd50c1",
   "metadata": {},
   "outputs": [
    {
     "data": {
      "text/html": [
       "<div>\n",
       "<style scoped>\n",
       "    .dataframe tbody tr th:only-of-type {\n",
       "        vertical-align: middle;\n",
       "    }\n",
       "\n",
       "    .dataframe tbody tr th {\n",
       "        vertical-align: top;\n",
       "    }\n",
       "\n",
       "    .dataframe thead th {\n",
       "        text-align: right;\n",
       "    }\n",
       "</style>\n",
       "<table border=\"1\" class=\"dataframe\">\n",
       "  <thead>\n",
       "    <tr style=\"text-align: right;\">\n",
       "      <th></th>\n",
       "      <th>Rating</th>\n",
       "      <th>Review_summary</th>\n",
       "      <th>Full review</th>\n",
       "    </tr>\n",
       "  </thead>\n",
       "  <tbody>\n",
       "    <tr>\n",
       "      <th>0</th>\n",
       "      <td>5</td>\n",
       "      <td>Brilliant</td>\n",
       "      <td>The Best Phone for the Money  The iPhone 11 of...</td>\n",
       "    </tr>\n",
       "    <tr>\n",
       "      <th>1</th>\n",
       "      <td>5</td>\n",
       "      <td>Simply awesome</td>\n",
       "      <td>Really satisfied with the Product I received.....</td>\n",
       "    </tr>\n",
       "    <tr>\n",
       "      <th>2</th>\n",
       "      <td>5</td>\n",
       "      <td>Best in the market!</td>\n",
       "      <td>Great iPhone very snappy experience as apple k...</td>\n",
       "    </tr>\n",
       "    <tr>\n",
       "      <th>3</th>\n",
       "      <td>5</td>\n",
       "      <td>Perfect product!</td>\n",
       "      <td>Amazing phone with great cameras and better ba...</td>\n",
       "    </tr>\n",
       "    <tr>\n",
       "      <th>4</th>\n",
       "      <td>5</td>\n",
       "      <td>Worth every penny</td>\n",
       "      <td>Previously I was using one plus 3t it was a gr...</td>\n",
       "    </tr>\n",
       "    <tr>\n",
       "      <th>...</th>\n",
       "      <td>...</td>\n",
       "      <td>...</td>\n",
       "      <td>...</td>\n",
       "    </tr>\n",
       "    <tr>\n",
       "      <th>95</th>\n",
       "      <td>5</td>\n",
       "      <td>Terrific purchase</td>\n",
       "      <td>I use a Note10+ and have been using both iOS a...</td>\n",
       "    </tr>\n",
       "    <tr>\n",
       "      <th>96</th>\n",
       "      <td>3</td>\n",
       "      <td>Awesome</td>\n",
       "      <td>The phone is completely good As far as camera ...</td>\n",
       "    </tr>\n",
       "    <tr>\n",
       "      <th>97</th>\n",
       "      <td>5</td>\n",
       "      <td>Decent product</td>\n",
       "      <td>Everything u ll like it when u use this iPhone...</td>\n",
       "    </tr>\n",
       "    <tr>\n",
       "      <th>98</th>\n",
       "      <td>5</td>\n",
       "      <td>Awesome</td>\n",
       "      <td>Can’t beat the software and hardware integrati...</td>\n",
       "    </tr>\n",
       "    <tr>\n",
       "      <th>99</th>\n",
       "      <td>5</td>\n",
       "      <td>Does the job</td>\n",
       "      <td>phone is good but in display is 720p lcd in th...</td>\n",
       "    </tr>\n",
       "  </tbody>\n",
       "</table>\n",
       "<p>100 rows × 3 columns</p>\n",
       "</div>"
      ],
      "text/plain": [
       "   Rating       Review_summary  \\\n",
       "0       5            Brilliant   \n",
       "1       5       Simply awesome   \n",
       "2       5  Best in the market!   \n",
       "3       5     Perfect product!   \n",
       "4       5    Worth every penny   \n",
       "..    ...                  ...   \n",
       "95      5    Terrific purchase   \n",
       "96      3              Awesome   \n",
       "97      5       Decent product   \n",
       "98      5              Awesome   \n",
       "99      5         Does the job   \n",
       "\n",
       "                                          Full review  \n",
       "0   The Best Phone for the Money  The iPhone 11 of...  \n",
       "1   Really satisfied with the Product I received.....  \n",
       "2   Great iPhone very snappy experience as apple k...  \n",
       "3   Amazing phone with great cameras and better ba...  \n",
       "4   Previously I was using one plus 3t it was a gr...  \n",
       "..                                                ...  \n",
       "95  I use a Note10+ and have been using both iOS a...  \n",
       "96  The phone is completely good As far as camera ...  \n",
       "97  Everything u ll like it when u use this iPhone...  \n",
       "98  Can’t beat the software and hardware integrati...  \n",
       "99  phone is good but in display is 720p lcd in th...  \n",
       "\n",
       "[100 rows x 3 columns]"
      ]
     },
     "execution_count": 16,
     "metadata": {},
     "output_type": "execute_result"
    }
   ],
   "source": [
    "iphone_r"
   ]
  },
  {
   "cell_type": "code",
   "execution_count": 17,
   "id": "f5880959",
   "metadata": {},
   "outputs": [],
   "source": [
    "driver.close()"
   ]
  },
  {
   "cell_type": "markdown",
   "id": "438454ee",
   "metadata": {},
   "source": [
    "# Q6"
   ]
  },
  {
   "cell_type": "code",
   "execution_count": 18,
   "id": "b1beee04",
   "metadata": {},
   "outputs": [],
   "source": [
    "s = Service('D:/Data_Science/chromedriver_win32/chromedriver.exe')\n",
    "driver = webdriver.Chrome(service=s)"
   ]
  },
  {
   "cell_type": "code",
   "execution_count": 19,
   "id": "d121a18a",
   "metadata": {},
   "outputs": [],
   "source": [
    "#Getting the Webpage\n",
    "driver.get('https://www.flipkart.com/')"
   ]
  },
  {
   "cell_type": "code",
   "execution_count": 20,
   "id": "abbef6cb",
   "metadata": {},
   "outputs": [
    {
     "name": "stderr",
     "output_type": "stream",
     "text": [
      "C:\\Users\\DELLUS~1\\AppData\\Local\\Temp/ipykernel_6424/1139497511.py:1: DeprecationWarning: find_element_by_* commands are deprecated. Please use find_element() instead\n",
      "  cls_btn = driver.find_element_by_xpath(\"//div[@class='_2QfC02']/button\")\n"
     ]
    }
   ],
   "source": [
    "cls_btn = driver.find_element_by_xpath(\"//div[@class='_2QfC02']/button\")\n",
    "cls_btn.click()"
   ]
  },
  {
   "cell_type": "code",
   "execution_count": 21,
   "id": "569f123e",
   "metadata": {},
   "outputs": [
    {
     "name": "stderr",
     "output_type": "stream",
     "text": [
      "C:\\Users\\DELLUS~1\\AppData\\Local\\Temp/ipykernel_6424/118174598.py:2: DeprecationWarning: find_element_by_* commands are deprecated. Please use find_element() instead\n",
      "  search_prod = driver.find_element_by_xpath(\"//input[@name='q']\")\n"
     ]
    }
   ],
   "source": [
    "#Entering the product\n",
    "search_prod = driver.find_element_by_xpath(\"//input[@name='q']\")\n",
    "search_prod.send_keys('sneakers')"
   ]
  },
  {
   "cell_type": "code",
   "execution_count": 22,
   "id": "e9e0886d",
   "metadata": {},
   "outputs": [
    {
     "name": "stderr",
     "output_type": "stream",
     "text": [
      "C:\\Users\\DELLUS~1\\AppData\\Local\\Temp/ipykernel_6424/2620359872.py:1: DeprecationWarning: find_element_by_* commands are deprecated. Please use find_element() instead\n",
      "  search_bar = driver.find_element_by_xpath(\"//button[@class='L0Z3Pu']\")\n"
     ]
    }
   ],
   "source": [
    "search_bar = driver.find_element_by_xpath(\"//button[@class='L0Z3Pu']\")\n",
    "search_bar.click()"
   ]
  },
  {
   "cell_type": "code",
   "execution_count": 25,
   "id": "0c4bd7a4",
   "metadata": {},
   "outputs": [],
   "source": [
    "sbrand_list=[]\n",
    "spd_list=[]\n",
    "sprice_list=[]\n",
    "soff_list=[]"
   ]
  },
  {
   "cell_type": "code",
   "execution_count": 26,
   "id": "1c22c241",
   "metadata": {},
   "outputs": [
    {
     "name": "stderr",
     "output_type": "stream",
     "text": [
      "C:\\Users\\DELLUS~1\\AppData\\Local\\Temp/ipykernel_6424/2152788099.py:3: DeprecationWarning: find_elements_by_* commands are deprecated. Please use find_elements() instead\n",
      "  brand_tags=driver.find_elements_by_xpath(\"//div[@class='_2WkVRV']\")\n",
      "C:\\Users\\DELLUS~1\\AppData\\Local\\Temp/ipykernel_6424/2152788099.py:8: DeprecationWarning: find_elements_by_* commands are deprecated. Please use find_elements() instead\n",
      "  price_tags=driver.find_elements_by_xpath(\"//div[@class='_30jeq3']\")\n",
      "C:\\Users\\DELLUS~1\\AppData\\Local\\Temp/ipykernel_6424/2152788099.py:13: DeprecationWarning: find_elements_by_* commands are deprecated. Please use find_elements() instead\n",
      "  pd_tags=driver.find_elements_by_xpath(\"//a[@class='IRpwTa']\")\n",
      "C:\\Users\\DELLUS~1\\AppData\\Local\\Temp/ipykernel_6424/2152788099.py:18: DeprecationWarning: find_elements_by_* commands are deprecated. Please use find_elements() instead\n",
      "  off_tags=driver.find_elements_by_xpath(\"//div[@class='_3Ay6Sb']/span\")\n",
      "C:\\Users\\DELLUS~1\\AppData\\Local\\Temp/ipykernel_6424/2152788099.py:23: DeprecationWarning: find_elements_by_* commands are deprecated. Please use find_elements() instead\n",
      "  next_btn = driver.find_elements_by_xpath('//a[@class=\"_1LKTO3\"]')[-1]\n"
     ]
    }
   ],
   "source": [
    "import time\n",
    "while (len(sbrand_list) < 100 or len(spd_list) < 100 or len(sprice_list) < 100 or len(soff_list) < 100):\n",
    "    brand_tags=driver.find_elements_by_xpath(\"//div[@class='_2WkVRV']\")\n",
    "    for i in brand_tags:\n",
    "        brand=i.text\n",
    "        sbrand_list.append(brand)\n",
    "    #sbrand_list\n",
    "    price_tags=driver.find_elements_by_xpath(\"//div[@class='_30jeq3']\")\n",
    "    for j in price_tags:\n",
    "        price=j.text.replace('₹','')\n",
    "        sprice_list.append(price)\n",
    "    #sprice_list\n",
    "    pd_tags=driver.find_elements_by_xpath(\"//a[@class='IRpwTa']\")\n",
    "    for k in pd_tags:\n",
    "        pd=k.text\n",
    "        spd_list.append(pd)\n",
    "    #spd_list\n",
    "    off_tags=driver.find_elements_by_xpath(\"//div[@class='_3Ay6Sb']/span\")\n",
    "    for l in off_tags:\n",
    "        off=l.text\n",
    "        soff_list.append(off)\n",
    "    #soff_list\n",
    "    next_btn = driver.find_elements_by_xpath('//a[@class=\"_1LKTO3\"]')[-1]\n",
    "    next_btn.click()\n",
    "    time.sleep(10)"
   ]
  },
  {
   "cell_type": "code",
   "execution_count": 27,
   "id": "cc7a849f",
   "metadata": {},
   "outputs": [],
   "source": [
    "import pandas as pd\n",
    "sneak=pd.DataFrame({})\n",
    "sneak['Brand']=sbrand_list[0:100]\n",
    "sneak['Product Description']=spd_list[0:100]\n",
    "sneak['Price']=sprice_list[0:100]\n",
    "sneak['Off']=soff_list[0:100]"
   ]
  },
  {
   "cell_type": "code",
   "execution_count": 28,
   "id": "8fcffcc0",
   "metadata": {},
   "outputs": [
    {
     "data": {
      "text/html": [
       "<div>\n",
       "<style scoped>\n",
       "    .dataframe tbody tr th:only-of-type {\n",
       "        vertical-align: middle;\n",
       "    }\n",
       "\n",
       "    .dataframe tbody tr th {\n",
       "        vertical-align: top;\n",
       "    }\n",
       "\n",
       "    .dataframe thead th {\n",
       "        text-align: right;\n",
       "    }\n",
       "</style>\n",
       "<table border=\"1\" class=\"dataframe\">\n",
       "  <thead>\n",
       "    <tr style=\"text-align: right;\">\n",
       "      <th></th>\n",
       "      <th>Brand</th>\n",
       "      <th>Product Description</th>\n",
       "      <th>Price</th>\n",
       "      <th>Off</th>\n",
       "    </tr>\n",
       "  </thead>\n",
       "  <tbody>\n",
       "    <tr>\n",
       "      <th>0</th>\n",
       "      <td>PUMA</td>\n",
       "      <td>Puma Smash v2 Buck Sneakers For Men</td>\n",
       "      <td>1,749</td>\n",
       "      <td>50% off</td>\n",
       "    </tr>\n",
       "    <tr>\n",
       "      <th>1</th>\n",
       "      <td>RED TAPE</td>\n",
       "      <td>Classic Sneakers For Men</td>\n",
       "      <td>1,398</td>\n",
       "      <td>75% off</td>\n",
       "    </tr>\n",
       "    <tr>\n",
       "      <th>2</th>\n",
       "      <td>URBANBOX</td>\n",
       "      <td>Super Stylish &amp; Trendy Combo Pack of 02 Pairs ...</td>\n",
       "      <td>220</td>\n",
       "      <td>77% off</td>\n",
       "    </tr>\n",
       "    <tr>\n",
       "      <th>3</th>\n",
       "      <td>Chevit</td>\n",
       "      <td>Modern Trendy Sneakers Shoes Sneakers For Men</td>\n",
       "      <td>536</td>\n",
       "      <td>66% off</td>\n",
       "    </tr>\n",
       "    <tr>\n",
       "      <th>4</th>\n",
       "      <td>BRUTON</td>\n",
       "      <td>Sports Running Shoes Sneakers For Men</td>\n",
       "      <td>299</td>\n",
       "      <td>76% off</td>\n",
       "    </tr>\n",
       "    <tr>\n",
       "      <th>...</th>\n",
       "      <td>...</td>\n",
       "      <td>...</td>\n",
       "      <td>...</td>\n",
       "      <td>...</td>\n",
       "    </tr>\n",
       "    <tr>\n",
       "      <th>95</th>\n",
       "      <td>RED TAPE</td>\n",
       "      <td>Fashion Outdoor Canvas Casual Light Weight Lac...</td>\n",
       "      <td>1,423</td>\n",
       "      <td>40% off</td>\n",
       "    </tr>\n",
       "    <tr>\n",
       "      <th>96</th>\n",
       "      <td>BIRDE</td>\n",
       "      <td>Delta Mid Nu Sneakers For Men</td>\n",
       "      <td>299</td>\n",
       "      <td>75% off</td>\n",
       "    </tr>\n",
       "    <tr>\n",
       "      <th>97</th>\n",
       "      <td>Chevit</td>\n",
       "      <td>Sneakers For Men</td>\n",
       "      <td>447</td>\n",
       "      <td>50% off</td>\n",
       "    </tr>\n",
       "    <tr>\n",
       "      <th>98</th>\n",
       "      <td>Robbie jones</td>\n",
       "      <td>Combo Pack of 5 Casual Sneakers Sneakers For Men</td>\n",
       "      <td>499</td>\n",
       "      <td>30% off</td>\n",
       "    </tr>\n",
       "    <tr>\n",
       "      <th>99</th>\n",
       "      <td>Neeman's</td>\n",
       "      <td>Sneakers For Men</td>\n",
       "      <td>2,099</td>\n",
       "      <td>81% off</td>\n",
       "    </tr>\n",
       "  </tbody>\n",
       "</table>\n",
       "<p>100 rows × 4 columns</p>\n",
       "</div>"
      ],
      "text/plain": [
       "           Brand                                Product Description  Price  \\\n",
       "0           PUMA                Puma Smash v2 Buck Sneakers For Men  1,749   \n",
       "1       RED TAPE                           Classic Sneakers For Men  1,398   \n",
       "2       URBANBOX  Super Stylish & Trendy Combo Pack of 02 Pairs ...    220   \n",
       "3         Chevit      Modern Trendy Sneakers Shoes Sneakers For Men    536   \n",
       "4         BRUTON              Sports Running Shoes Sneakers For Men    299   \n",
       "..           ...                                                ...    ...   \n",
       "95      RED TAPE  Fashion Outdoor Canvas Casual Light Weight Lac...  1,423   \n",
       "96         BIRDE                      Delta Mid Nu Sneakers For Men    299   \n",
       "97        Chevit                                   Sneakers For Men    447   \n",
       "98  Robbie jones   Combo Pack of 5 Casual Sneakers Sneakers For Men    499   \n",
       "99      Neeman's                                   Sneakers For Men  2,099   \n",
       "\n",
       "        Off  \n",
       "0   50% off  \n",
       "1   75% off  \n",
       "2   77% off  \n",
       "3   66% off  \n",
       "4   76% off  \n",
       "..      ...  \n",
       "95  40% off  \n",
       "96  75% off  \n",
       "97  50% off  \n",
       "98  30% off  \n",
       "99  81% off  \n",
       "\n",
       "[100 rows x 4 columns]"
      ]
     },
     "execution_count": 28,
     "metadata": {},
     "output_type": "execute_result"
    }
   ],
   "source": [
    "sneak"
   ]
  },
  {
   "cell_type": "code",
   "execution_count": 29,
   "id": "4ccb8e21",
   "metadata": {},
   "outputs": [],
   "source": [
    "driver.close()"
   ]
  },
  {
   "cell_type": "markdown",
   "id": "cb18f132",
   "metadata": {},
   "source": [
    "# Q7"
   ]
  },
  {
   "cell_type": "code",
   "execution_count": 2,
   "id": "bb18b1d3",
   "metadata": {},
   "outputs": [],
   "source": [
    "s = Service('D:/Data_Science/chromedriver_win32/chromedriver.exe')\n",
    "driver = webdriver.Chrome(service=s)"
   ]
  },
  {
   "cell_type": "code",
   "execution_count": 3,
   "id": "1ef53dc0",
   "metadata": {},
   "outputs": [],
   "source": [
    "#Getting the Webpage\n",
    "driver.get('https://www.myntra.com/shoes')"
   ]
  },
  {
   "cell_type": "code",
   "execution_count": 4,
   "id": "afadba26",
   "metadata": {},
   "outputs": [
    {
     "name": "stderr",
     "output_type": "stream",
     "text": [
      "C:\\Users\\DELLUS~1\\AppData\\Local\\Temp/ipykernel_4640/2076774001.py:2: DeprecationWarning: find_element_by_* commands are deprecated. Please use find_element() instead\n",
      "  color_filter = driver.find_element_by_xpath('//*[@id=\"mountRoot\"]/div/div[1]/main/div[3]/div[1]/section/div/div[6]/ul/li[1]/label')\n"
     ]
    }
   ],
   "source": [
    "#Filter on Color\n",
    "color_filter = driver.find_element_by_xpath('//*[@id=\"mountRoot\"]/div/div[1]/main/div[3]/div[1]/section/div/div[6]/ul/li[1]/label')\n",
    "color_filter.click()"
   ]
  },
  {
   "cell_type": "code",
   "execution_count": 5,
   "id": "bfb6f44e",
   "metadata": {},
   "outputs": [
    {
     "name": "stderr",
     "output_type": "stream",
     "text": [
      "C:\\Users\\DELLUS~1\\AppData\\Local\\Temp/ipykernel_4640/2820010228.py:2: DeprecationWarning: find_element_by_* commands are deprecated. Please use find_element() instead\n",
      "  price_filter = driver.find_element_by_xpath('//*[@id=\"mountRoot\"]/div/div[1]/main/div[3]/div[1]/section/div/div[5]/ul/li[2]/label')\n"
     ]
    }
   ],
   "source": [
    "#Filter on price\n",
    "price_filter = driver.find_element_by_xpath('//*[@id=\"mountRoot\"]/div/div[1]/main/div[3]/div[1]/section/div/div[5]/ul/li[2]/label')\n",
    "price_filter.click()"
   ]
  },
  {
   "cell_type": "code",
   "execution_count": 31,
   "id": "c3cc5e6a",
   "metadata": {},
   "outputs": [],
   "source": [
    "shbrand_list=[]\n",
    "shd_list=[]\n",
    "shprice_list=[]"
   ]
  },
  {
   "cell_type": "code",
   "execution_count": 32,
   "id": "f11e339d",
   "metadata": {},
   "outputs": [
    {
     "name": "stderr",
     "output_type": "stream",
     "text": [
      "C:\\Users\\DELLUS~1\\AppData\\Local\\Temp/ipykernel_4640/4038841526.py:3: DeprecationWarning: find_elements_by_* commands are deprecated. Please use find_elements() instead\n",
      "  shbrand_tags=driver.find_elements_by_xpath(\"//h3[@class='product-brand']\")\n",
      "C:\\Users\\DELLUS~1\\AppData\\Local\\Temp/ipykernel_4640/4038841526.py:8: DeprecationWarning: find_elements_by_* commands are deprecated. Please use find_elements() instead\n",
      "  shprice_tags=driver.find_elements_by_xpath(\"//div[@class='product-price']/span[1]\")\n",
      "C:\\Users\\DELLUS~1\\AppData\\Local\\Temp/ipykernel_4640/4038841526.py:13: DeprecationWarning: find_elements_by_* commands are deprecated. Please use find_elements() instead\n",
      "  shpd_tags=driver.find_elements_by_xpath(\"//h4[@class='product-product']\")\n",
      "C:\\Users\\DELLUS~1\\AppData\\Local\\Temp/ipykernel_4640/4038841526.py:19: DeprecationWarning: find_elements_by_* commands are deprecated. Please use find_elements() instead\n",
      "  next_btn = driver.find_elements_by_xpath('//a[@rel=\"next\"]')[-1]\n"
     ]
    }
   ],
   "source": [
    "import time\n",
    "while (len(shbrand_list) < 100 or len(shd_list) < 100 or len(shprice_list) < 100 ):\n",
    "    shbrand_tags=driver.find_elements_by_xpath(\"//h3[@class='product-brand']\")\n",
    "    for i in shbrand_tags:\n",
    "        sbrand=i.text\n",
    "        shbrand_list.append(sbrand)\n",
    "    #shbrand_list\n",
    "    shprice_tags=driver.find_elements_by_xpath(\"//div[@class='product-price']/span[1]\")\n",
    "    for j in shprice_tags:\n",
    "        sprice=(j.text.split('Rs.')[1])\n",
    "        shprice_list.append(sprice)\n",
    "    #shprice_list\n",
    "    shpd_tags=driver.find_elements_by_xpath(\"//h4[@class='product-product']\")\n",
    "    for k in shpd_tags:\n",
    "        shpd=k.text\n",
    "        shd_list.append(shpd)\n",
    "    #shd_list\n",
    "    \n",
    "    next_btn = driver.find_elements_by_xpath('//a[@rel=\"next\"]')[-1]\n",
    "    next_btn.click()\n",
    "    time.sleep(10)"
   ]
  },
  {
   "cell_type": "code",
   "execution_count": 33,
   "id": "35a48ff8",
   "metadata": {},
   "outputs": [
    {
     "name": "stdout",
     "output_type": "stream",
     "text": [
      "100 100 100\n"
     ]
    }
   ],
   "source": [
    "print(len(shbrand_list),len(shd_list),len(shprice_list))"
   ]
  },
  {
   "cell_type": "code",
   "execution_count": 34,
   "id": "06e56001",
   "metadata": {},
   "outputs": [],
   "source": [
    "import pandas as pd\n",
    "shoes=pd.DataFrame({})\n",
    "shoes['Brand']=shbrand_list[0:100]\n",
    "shoes['Product Description']=shd_list[0:100]\n",
    "shoes['Price']=shprice_list[0:100]"
   ]
  },
  {
   "cell_type": "code",
   "execution_count": 35,
   "id": "f3126d5e",
   "metadata": {},
   "outputs": [
    {
     "data": {
      "text/html": [
       "<div>\n",
       "<style scoped>\n",
       "    .dataframe tbody tr th:only-of-type {\n",
       "        vertical-align: middle;\n",
       "    }\n",
       "\n",
       "    .dataframe tbody tr th {\n",
       "        vertical-align: top;\n",
       "    }\n",
       "\n",
       "    .dataframe thead th {\n",
       "        text-align: right;\n",
       "    }\n",
       "</style>\n",
       "<table border=\"1\" class=\"dataframe\">\n",
       "  <thead>\n",
       "    <tr style=\"text-align: right;\">\n",
       "      <th></th>\n",
       "      <th>Brand</th>\n",
       "      <th>Product Description</th>\n",
       "      <th>Price</th>\n",
       "    </tr>\n",
       "  </thead>\n",
       "  <tbody>\n",
       "    <tr>\n",
       "      <th>0</th>\n",
       "      <td>ASICS</td>\n",
       "      <td>Men GEL-KAYANO 27 Shoes</td>\n",
       "      <td>10499</td>\n",
       "    </tr>\n",
       "    <tr>\n",
       "      <th>1</th>\n",
       "      <td>Puma</td>\n",
       "      <td>Men Deviate Nitro Running Shoe</td>\n",
       "      <td>8249</td>\n",
       "    </tr>\n",
       "    <tr>\n",
       "      <th>2</th>\n",
       "      <td>ADIDAS</td>\n",
       "      <td>Women Running Shoes</td>\n",
       "      <td>7599</td>\n",
       "    </tr>\n",
       "    <tr>\n",
       "      <th>3</th>\n",
       "      <td>Puma</td>\n",
       "      <td>Men Running Shoes</td>\n",
       "      <td>6499</td>\n",
       "    </tr>\n",
       "    <tr>\n",
       "      <th>4</th>\n",
       "      <td>Nike</td>\n",
       "      <td>Men Waffle One SE Sneakers</td>\n",
       "      <td>8295</td>\n",
       "    </tr>\n",
       "    <tr>\n",
       "      <th>...</th>\n",
       "      <td>...</td>\n",
       "      <td>...</td>\n",
       "      <td>...</td>\n",
       "    </tr>\n",
       "    <tr>\n",
       "      <th>95</th>\n",
       "      <td>DAVINCHI</td>\n",
       "      <td>Solid Slip On Shoes</td>\n",
       "      <td>7990</td>\n",
       "    </tr>\n",
       "    <tr>\n",
       "      <th>96</th>\n",
       "      <td>DAVINCHI</td>\n",
       "      <td>Men Formal Leather Slip-Ons</td>\n",
       "      <td>8990</td>\n",
       "    </tr>\n",
       "    <tr>\n",
       "      <th>97</th>\n",
       "      <td>J.FONTINI</td>\n",
       "      <td>Men Textured Leather Formal Loafers</td>\n",
       "      <td>8990</td>\n",
       "    </tr>\n",
       "    <tr>\n",
       "      <th>98</th>\n",
       "      <td>DAVINCHI</td>\n",
       "      <td>Men Solid Leather Formal Derbys</td>\n",
       "      <td>8990</td>\n",
       "    </tr>\n",
       "    <tr>\n",
       "      <th>99</th>\n",
       "      <td>ASICS</td>\n",
       "      <td>Men Black Running Shoes</td>\n",
       "      <td>8999</td>\n",
       "    </tr>\n",
       "  </tbody>\n",
       "</table>\n",
       "<p>100 rows × 3 columns</p>\n",
       "</div>"
      ],
      "text/plain": [
       "        Brand                  Product Description   Price\n",
       "0       ASICS              Men GEL-KAYANO 27 Shoes   10499\n",
       "1        Puma       Men Deviate Nitro Running Shoe    8249\n",
       "2      ADIDAS                  Women Running Shoes    7599\n",
       "3        Puma                    Men Running Shoes    6499\n",
       "4        Nike           Men Waffle One SE Sneakers    8295\n",
       "..        ...                                  ...     ...\n",
       "95   DAVINCHI                  Solid Slip On Shoes    7990\n",
       "96   DAVINCHI          Men Formal Leather Slip-Ons    8990\n",
       "97  J.FONTINI  Men Textured Leather Formal Loafers    8990\n",
       "98   DAVINCHI      Men Solid Leather Formal Derbys    8990\n",
       "99      ASICS              Men Black Running Shoes    8999\n",
       "\n",
       "[100 rows x 3 columns]"
      ]
     },
     "execution_count": 35,
     "metadata": {},
     "output_type": "execute_result"
    }
   ],
   "source": [
    "shoes"
   ]
  },
  {
   "cell_type": "code",
   "execution_count": 36,
   "id": "59bdaaed",
   "metadata": {},
   "outputs": [],
   "source": [
    "driver.close()"
   ]
  },
  {
   "cell_type": "markdown",
   "id": "d3c5fb1f",
   "metadata": {},
   "source": [
    "# Q8"
   ]
  },
  {
   "cell_type": "code",
   "execution_count": 37,
   "id": "28a980a2",
   "metadata": {},
   "outputs": [],
   "source": [
    "s = Service('D:/Data_Science/chromedriver_win32/chromedriver.exe')\n",
    "driver = webdriver.Chrome(service=s)"
   ]
  },
  {
   "cell_type": "code",
   "execution_count": 45,
   "id": "44aafb40",
   "metadata": {},
   "outputs": [],
   "source": [
    "#Getting the Webpage\n",
    "driver.get('https://www.amazon.in/')"
   ]
  },
  {
   "cell_type": "code",
   "execution_count": 46,
   "id": "17249fdf",
   "metadata": {},
   "outputs": [
    {
     "name": "stderr",
     "output_type": "stream",
     "text": [
      "C:\\Users\\DELLUS~1\\AppData\\Local\\Temp/ipykernel_4640/234035956.py:2: DeprecationWarning: find_element_by_* commands are deprecated. Please use find_element() instead\n",
      "  searc_prod = driver.find_element_by_xpath(\"//input[@id='twotabsearchtextbox']\")\n"
     ]
    }
   ],
   "source": [
    "#Entering the product\n",
    "searc_prod = driver.find_element_by_xpath(\"//input[@id='twotabsearchtextbox']\")\n",
    "searc_prod.send_keys('laptop')"
   ]
  },
  {
   "cell_type": "code",
   "execution_count": 47,
   "id": "f772fcae",
   "metadata": {},
   "outputs": [
    {
     "name": "stderr",
     "output_type": "stream",
     "text": [
      "C:\\Users\\DELLUS~1\\AppData\\Local\\Temp/ipykernel_4640/172873455.py:1: DeprecationWarning: find_element_by_* commands are deprecated. Please use find_element() instead\n",
      "  search_bar = driver.find_element_by_xpath(\"//input[@id='nav-search-submit-button']\")\n"
     ]
    }
   ],
   "source": [
    "search_bar = driver.find_element_by_xpath(\"//input[@id='nav-search-submit-button']\")\n",
    "search_bar.click()"
   ]
  },
  {
   "cell_type": "code",
   "execution_count": 50,
   "id": "3e75cbaf",
   "metadata": {},
   "outputs": [
    {
     "name": "stderr",
     "output_type": "stream",
     "text": [
      "C:\\Users\\DELLUS~1\\AppData\\Local\\Temp/ipykernel_4640/4266050998.py:2: DeprecationWarning: find_element_by_* commands are deprecated. Please use find_element() instead\n",
      "  cpu_filter = driver.find_element_by_xpath(\"//*[@id='p_n_feature_thirteen_browse-bin/12598163031']/span/a/span\")\n"
     ]
    }
   ],
   "source": [
    "#Filter on CPU - Intel Core i7\n",
    "cpu_filter = driver.find_element_by_xpath(\"//*[@id='p_n_feature_thirteen_browse-bin/12598163031']/span/a/span\")\n",
    "cpu_filter.click()"
   ]
  },
  {
   "cell_type": "code",
   "execution_count": 130,
   "id": "696844b6",
   "metadata": {},
   "outputs": [],
   "source": [
    "lprod_list7=[]\n",
    "lrat_list7=[]\n",
    "lprice_list7=[]"
   ]
  },
  {
   "cell_type": "code",
   "execution_count": 131,
   "id": "f38eb95c",
   "metadata": {},
   "outputs": [
    {
     "name": "stderr",
     "output_type": "stream",
     "text": [
      "C:\\Users\\DELLUS~1\\AppData\\Local\\Temp/ipykernel_4640/471307319.py:1: DeprecationWarning: find_elements_by_* commands are deprecated. Please use find_elements() instead\n",
      "  prod_tags=driver.find_elements_by_xpath(\"//span[@class='a-size-medium a-color-base a-text-normal']\")\n",
      "C:\\Users\\DELLUS~1\\AppData\\Local\\Temp/ipykernel_4640/471307319.py:6: DeprecationWarning: find_elements_by_* commands are deprecated. Please use find_elements() instead\n",
      "  rat_tags=driver.find_elements_by_xpath(\"//span[@class='a-icon-alt']\")\n",
      "C:\\Users\\DELLUS~1\\AppData\\Local\\Temp/ipykernel_4640/471307319.py:11: DeprecationWarning: find_elements_by_* commands are deprecated. Please use find_elements() instead\n",
      "  price_tags=driver.find_elements_by_xpath(\"//span[@class='a-price-whole']\")\n"
     ]
    }
   ],
   "source": [
    "prod_tags=driver.find_elements_by_xpath(\"//span[@class='a-size-medium a-color-base a-text-normal']\")\n",
    "for i in prod_tags:\n",
    "    prod=i.text\n",
    "    lprod_list7.append(prod)\n",
    "#lprod_list7\n",
    "rat_tags=driver.find_elements_by_xpath(\"//span[@class='a-icon-alt']\")\n",
    "for j in rat_tags:\n",
    "    rat=j.text\n",
    "    lrat_list7.append(rat)\n",
    "#lrat_list7\n",
    "price_tags=driver.find_elements_by_xpath(\"//span[@class='a-price-whole']\")\n",
    "for j in price_tags:\n",
    "    pr=j.text\n",
    "    lprice_list7.append(pr)\n",
    "#lprice_list7"
   ]
  },
  {
   "cell_type": "code",
   "execution_count": 132,
   "id": "89d7887c",
   "metadata": {},
   "outputs": [],
   "source": [
    "import pandas as pd\n",
    "li7=pd.DataFrame({})\n",
    "li7['Title']=lprod_list7[0:10]\n",
    "li7['Rating']=lrat_list7[0:10]\n",
    "li7['Price']=lprice_list7[0:10]\n"
   ]
  },
  {
   "cell_type": "code",
   "execution_count": 133,
   "id": "4771fc12",
   "metadata": {},
   "outputs": [
    {
     "data": {
      "text/html": [
       "<div>\n",
       "<style scoped>\n",
       "    .dataframe tbody tr th:only-of-type {\n",
       "        vertical-align: middle;\n",
       "    }\n",
       "\n",
       "    .dataframe tbody tr th {\n",
       "        vertical-align: top;\n",
       "    }\n",
       "\n",
       "    .dataframe thead th {\n",
       "        text-align: right;\n",
       "    }\n",
       "</style>\n",
       "<table border=\"1\" class=\"dataframe\">\n",
       "  <thead>\n",
       "    <tr style=\"text-align: right;\">\n",
       "      <th></th>\n",
       "      <th>Title</th>\n",
       "      <th>Rating</th>\n",
       "      <th>Price</th>\n",
       "    </tr>\n",
       "  </thead>\n",
       "  <tbody>\n",
       "    <tr>\n",
       "      <th>0</th>\n",
       "      <td>Acer Nitro 5 AN515-57 Gaming Laptop | Intel Co...</td>\n",
       "      <td></td>\n",
       "      <td>89,990</td>\n",
       "    </tr>\n",
       "    <tr>\n",
       "      <th>1</th>\n",
       "      <td>Fujitsu UH-X 11th Gen Intel i7 Core 13.3 inche...</td>\n",
       "      <td></td>\n",
       "      <td>92,990</td>\n",
       "    </tr>\n",
       "    <tr>\n",
       "      <th>2</th>\n",
       "      <td>Mi Notebook Ultra 3.2K resolution display Inte...</td>\n",
       "      <td></td>\n",
       "      <td>77,999</td>\n",
       "    </tr>\n",
       "    <tr>\n",
       "      <th>3</th>\n",
       "      <td>Mi Notebook Horizon Edition 14 Intel Core i7-1...</td>\n",
       "      <td></td>\n",
       "      <td>52,999</td>\n",
       "    </tr>\n",
       "    <tr>\n",
       "      <th>4</th>\n",
       "      <td>HP Pavilion (2021) Intel 11th Gen Core i7 14 i...</td>\n",
       "      <td></td>\n",
       "      <td>84,990</td>\n",
       "    </tr>\n",
       "    <tr>\n",
       "      <th>5</th>\n",
       "      <td>Lenovo ThinkBook 15 Intel 11th Gen Core i7 15....</td>\n",
       "      <td></td>\n",
       "      <td>85,990</td>\n",
       "    </tr>\n",
       "    <tr>\n",
       "      <th>6</th>\n",
       "      <td>LG Gram 17-inches Ultra-Light Intel Evo 11th G...</td>\n",
       "      <td></td>\n",
       "      <td>98,999</td>\n",
       "    </tr>\n",
       "    <tr>\n",
       "      <th>7</th>\n",
       "      <td>ASUS TUF Dash F15 (2021), 15.6-inch (39.62 cms...</td>\n",
       "      <td></td>\n",
       "      <td>89,990</td>\n",
       "    </tr>\n",
       "    <tr>\n",
       "      <th>8</th>\n",
       "      <td>ASUS TUF Dash F15 (2021) 15.6-inch (39.62 cms)...</td>\n",
       "      <td></td>\n",
       "      <td>1,09,990</td>\n",
       "    </tr>\n",
       "    <tr>\n",
       "      <th>9</th>\n",
       "      <td>Lenovo Yoga 7 11th Gen Intel Core i7 14\" Full ...</td>\n",
       "      <td></td>\n",
       "      <td>97,557</td>\n",
       "    </tr>\n",
       "  </tbody>\n",
       "</table>\n",
       "</div>"
      ],
      "text/plain": [
       "                                               Title Rating     Price\n",
       "0  Acer Nitro 5 AN515-57 Gaming Laptop | Intel Co...           89,990\n",
       "1  Fujitsu UH-X 11th Gen Intel i7 Core 13.3 inche...           92,990\n",
       "2  Mi Notebook Ultra 3.2K resolution display Inte...           77,999\n",
       "3  Mi Notebook Horizon Edition 14 Intel Core i7-1...           52,999\n",
       "4  HP Pavilion (2021) Intel 11th Gen Core i7 14 i...           84,990\n",
       "5  Lenovo ThinkBook 15 Intel 11th Gen Core i7 15....           85,990\n",
       "6  LG Gram 17-inches Ultra-Light Intel Evo 11th G...           98,999\n",
       "7  ASUS TUF Dash F15 (2021), 15.6-inch (39.62 cms...           89,990\n",
       "8  ASUS TUF Dash F15 (2021) 15.6-inch (39.62 cms)...         1,09,990\n",
       "9  Lenovo Yoga 7 11th Gen Intel Core i7 14\" Full ...           97,557"
      ]
     },
     "execution_count": 133,
     "metadata": {},
     "output_type": "execute_result"
    }
   ],
   "source": [
    "li7"
   ]
  },
  {
   "cell_type": "code",
   "execution_count": 134,
   "id": "d14128d9",
   "metadata": {},
   "outputs": [
    {
     "name": "stderr",
     "output_type": "stream",
     "text": [
      "C:\\Users\\DELLUS~1\\AppData\\Local\\Temp/ipykernel_4640/1825482825.py:2: DeprecationWarning: find_element_by_* commands are deprecated. Please use find_element() instead\n",
      "  cpu_filter = driver.find_element_by_xpath(\"//*[@id='p_n_feature_thirteen_browse-bin/12598163031']/span/a/span\")\n"
     ]
    }
   ],
   "source": [
    "#UNFilter on CPU - Intel Core i7\n",
    "cpu_filter = driver.find_element_by_xpath(\"//*[@id='p_n_feature_thirteen_browse-bin/12598163031']/span/a/span\")\n",
    "cpu_filter.click()"
   ]
  },
  {
   "cell_type": "code",
   "execution_count": 135,
   "id": "e69d62c1",
   "metadata": {},
   "outputs": [
    {
     "name": "stderr",
     "output_type": "stream",
     "text": [
      "C:\\Users\\DELLUS~1\\AppData\\Local\\Temp/ipykernel_4640/1711692955.py:2: DeprecationWarning: find_element_by_* commands are deprecated. Please use find_element() instead\n",
      "  cpu_filter = driver.find_element_by_xpath(\"//*[@id='p_n_feature_thirteen_browse-bin/16757432031']/span/a/span\")\n"
     ]
    }
   ],
   "source": [
    "#Filter on CPU - Intel Core i9\n",
    "cpu_filter = driver.find_element_by_xpath(\"//*[@id='p_n_feature_thirteen_browse-bin/16757432031']/span/a/span\")\n",
    "cpu_filter.click()"
   ]
  },
  {
   "cell_type": "code",
   "execution_count": 136,
   "id": "685c2241",
   "metadata": {},
   "outputs": [],
   "source": [
    "#Intel Core i9\n",
    "lprod_list9=[]\n",
    "lrat_list9=[]\n",
    "lprice_list9=[]"
   ]
  },
  {
   "cell_type": "code",
   "execution_count": 140,
   "id": "df237d3c",
   "metadata": {},
   "outputs": [
    {
     "name": "stderr",
     "output_type": "stream",
     "text": [
      "C:\\Users\\DELLUS~1\\AppData\\Local\\Temp/ipykernel_4640/2599860437.py:1: DeprecationWarning: find_elements_by_* commands are deprecated. Please use find_elements() instead\n",
      "  prod_tags9=driver.find_elements_by_xpath(\"//span[@class='a-size-medium a-color-base a-text-normal']\")\n",
      "C:\\Users\\DELLUS~1\\AppData\\Local\\Temp/ipykernel_4640/2599860437.py:6: DeprecationWarning: find_elements_by_* commands are deprecated. Please use find_elements() instead\n",
      "  rat_tags9=driver.find_elements_by_xpath(\"//span[@class='a-icon-alt']\")\n",
      "C:\\Users\\DELLUS~1\\AppData\\Local\\Temp/ipykernel_4640/2599860437.py:11: DeprecationWarning: find_elements_by_* commands are deprecated. Please use find_elements() instead\n",
      "  price_tags9=driver.find_elements_by_xpath(\"//span[@class='a-price-whole']\")\n"
     ]
    }
   ],
   "source": [
    "prod_tags9=driver.find_elements_by_xpath(\"//span[@class='a-size-medium a-color-base a-text-normal']\")\n",
    "for i in prod_tags9:\n",
    "    prod=i.text\n",
    "    lprod_list9.append(prod)\n",
    "#lprod_list9\n",
    "rat_tags9=driver.find_elements_by_xpath(\"//span[@class='a-icon-alt']\")\n",
    "for j in rat_tags9:\n",
    "    rat=j.text\n",
    "    lrat_list9.append(rat)\n",
    "#lrat_list9\n",
    "price_tags9=driver.find_elements_by_xpath(\"//span[@class='a-price-whole']\")\n",
    "for j in price_tags9:\n",
    "    pr=j.text\n",
    "    lprice_list9.append(pr)\n",
    "#lprice_list9"
   ]
  },
  {
   "cell_type": "code",
   "execution_count": 141,
   "id": "c23f41ae",
   "metadata": {},
   "outputs": [],
   "source": [
    "import pandas as pd\n",
    "li9=pd.DataFrame({})\n",
    "li9['Title']=lprod_list9[0:10]\n",
    "li9['Rating']=lrat_list9[0:10]\n",
    "li9['Price']=lprice_list9[0:10]"
   ]
  },
  {
   "cell_type": "code",
   "execution_count": 142,
   "id": "f6845599",
   "metadata": {},
   "outputs": [
    {
     "data": {
      "text/html": [
       "<div>\n",
       "<style scoped>\n",
       "    .dataframe tbody tr th:only-of-type {\n",
       "        vertical-align: middle;\n",
       "    }\n",
       "\n",
       "    .dataframe tbody tr th {\n",
       "        vertical-align: top;\n",
       "    }\n",
       "\n",
       "    .dataframe thead th {\n",
       "        text-align: right;\n",
       "    }\n",
       "</style>\n",
       "<table border=\"1\" class=\"dataframe\">\n",
       "  <thead>\n",
       "    <tr style=\"text-align: right;\">\n",
       "      <th></th>\n",
       "      <th>Title</th>\n",
       "      <th>Rating</th>\n",
       "      <th>Price</th>\n",
       "    </tr>\n",
       "  </thead>\n",
       "  <tbody>\n",
       "    <tr>\n",
       "      <th>0</th>\n",
       "      <td>ASUS TUF Gaming F15 (2021), 15.6\" (39.62 cms) ...</td>\n",
       "      <td></td>\n",
       "      <td>1,52,890</td>\n",
       "    </tr>\n",
       "    <tr>\n",
       "      <th>1</th>\n",
       "      <td>ASUS TUF Gaming F15 (2021), 15.6-inch (39.62 c...</td>\n",
       "      <td></td>\n",
       "      <td>1,48,980</td>\n",
       "    </tr>\n",
       "    <tr>\n",
       "      <th>2</th>\n",
       "      <td>ASUS ROG Strix Scar III G531GW 15.6\" FHD 240Hz...</td>\n",
       "      <td></td>\n",
       "      <td>2,65,999</td>\n",
       "    </tr>\n",
       "    <tr>\n",
       "      <th>3</th>\n",
       "      <td>Lenovo Legion 7 10th Gen Intel Core i9 15.6 in...</td>\n",
       "      <td></td>\n",
       "      <td>2,25,000</td>\n",
       "    </tr>\n",
       "    <tr>\n",
       "      <th>4</th>\n",
       "      <td>(Renewed) Dell G7 7500 15.6inch FHD 300 Hz Dis...</td>\n",
       "      <td></td>\n",
       "      <td>2,01,900</td>\n",
       "    </tr>\n",
       "    <tr>\n",
       "      <th>5</th>\n",
       "      <td>Dell XPS 7590 39.62 cm (15.6-inch) UHD Display...</td>\n",
       "      <td></td>\n",
       "      <td>3,75,000</td>\n",
       "    </tr>\n",
       "    <tr>\n",
       "      <th>6</th>\n",
       "      <td>Dell XPS 17 (2021) i9-11900H Touch Screen Lapt...</td>\n",
       "      <td></td>\n",
       "      <td>2,07,990</td>\n",
       "    </tr>\n",
       "    <tr>\n",
       "      <th>7</th>\n",
       "      <td>Dell G7 7500 15.6inch FHD 300 Hz Display Gamin...</td>\n",
       "      <td></td>\n",
       "      <td>2,45,000</td>\n",
       "    </tr>\n",
       "    <tr>\n",
       "      <th>8</th>\n",
       "      <td>HP ZBOOK Power G8/ Intel core i9-11900H 8 Core...</td>\n",
       "      <td></td>\n",
       "      <td>2,39,000</td>\n",
       "    </tr>\n",
       "    <tr>\n",
       "      <th>9</th>\n",
       "      <td>Z2 G5 Workstation 700W /Core i9-10900 (2.8GHz ...</td>\n",
       "      <td></td>\n",
       "      <td>1,52,890</td>\n",
       "    </tr>\n",
       "  </tbody>\n",
       "</table>\n",
       "</div>"
      ],
      "text/plain": [
       "                                               Title Rating     Price\n",
       "0  ASUS TUF Gaming F15 (2021), 15.6\" (39.62 cms) ...         1,52,890\n",
       "1  ASUS TUF Gaming F15 (2021), 15.6-inch (39.62 c...         1,48,980\n",
       "2  ASUS ROG Strix Scar III G531GW 15.6\" FHD 240Hz...         2,65,999\n",
       "3  Lenovo Legion 7 10th Gen Intel Core i9 15.6 in...         2,25,000\n",
       "4  (Renewed) Dell G7 7500 15.6inch FHD 300 Hz Dis...         2,01,900\n",
       "5  Dell XPS 7590 39.62 cm (15.6-inch) UHD Display...         3,75,000\n",
       "6  Dell XPS 17 (2021) i9-11900H Touch Screen Lapt...         2,07,990\n",
       "7  Dell G7 7500 15.6inch FHD 300 Hz Display Gamin...         2,45,000\n",
       "8  HP ZBOOK Power G8/ Intel core i9-11900H 8 Core...         2,39,000\n",
       "9  Z2 G5 Workstation 700W /Core i9-10900 (2.8GHz ...         1,52,890"
      ]
     },
     "execution_count": 142,
     "metadata": {},
     "output_type": "execute_result"
    }
   ],
   "source": [
    "#Intel Core i9\n",
    "li9"
   ]
  },
  {
   "cell_type": "code",
   "execution_count": 145,
   "id": "1cd87a7e",
   "metadata": {},
   "outputs": [],
   "source": [
    "driver.close()"
   ]
  },
  {
   "cell_type": "markdown",
   "id": "1f53773a",
   "metadata": {},
   "source": [
    "# Q9"
   ]
  },
  {
   "cell_type": "code",
   "execution_count": 146,
   "id": "fc4db433",
   "metadata": {},
   "outputs": [],
   "source": [
    "s = Service('D:/Data_Science/chromedriver_win32/chromedriver.exe')\n",
    "driver = webdriver.Chrome(service=s)"
   ]
  },
  {
   "cell_type": "code",
   "execution_count": 147,
   "id": "20991cfb",
   "metadata": {},
   "outputs": [],
   "source": [
    "#Getting the Webpage\n",
    "driver.get('https://www.ambitionbox.com/')"
   ]
  },
  {
   "cell_type": "code",
   "execution_count": 148,
   "id": "2dad491f",
   "metadata": {},
   "outputs": [
    {
     "name": "stderr",
     "output_type": "stream",
     "text": [
      "C:\\Users\\DELLUS~1\\AppData\\Local\\Temp/ipykernel_4640/2841390152.py:1: DeprecationWarning: find_element_by_* commands are deprecated. Please use find_element() instead\n",
      "  job_otn = driver.find_element_by_xpath(\"//a[@class='link jobs']\")\n"
     ]
    }
   ],
   "source": [
    "job_otn = driver.find_element_by_xpath(\"//a[@class='link jobs']\")\n",
    "job_otn.click()"
   ]
  },
  {
   "cell_type": "code",
   "execution_count": 149,
   "id": "14ee398b",
   "metadata": {},
   "outputs": [
    {
     "name": "stderr",
     "output_type": "stream",
     "text": [
      "C:\\Users\\DELLUS~1\\AppData\\Local\\Temp/ipykernel_4640/662263052.py:2: DeprecationWarning: find_element_by_* commands are deprecated. Please use find_element() instead\n",
      "  search_job = driver.find_element_by_xpath(\"//input[@name='ab_jobsSearch']\")\n"
     ]
    }
   ],
   "source": [
    "#Entering the Skill, Designations, Companies field\n",
    "search_job = driver.find_element_by_xpath(\"//input[@name='ab_jobsSearch']\")\n",
    "search_job.send_keys('Data Scientist')"
   ]
  },
  {
   "cell_type": "code",
   "execution_count": 150,
   "id": "6b8cce2a",
   "metadata": {},
   "outputs": [
    {
     "name": "stderr",
     "output_type": "stream",
     "text": [
      "C:\\Users\\DELLUS~1\\AppData\\Local\\Temp/ipykernel_4640/4079627772.py:1: DeprecationWarning: find_element_by_* commands are deprecated. Please use find_element() instead\n",
      "  search_btn = driver.find_element_by_xpath(\"//span[@class='ctas-btn-medium']\")\n"
     ]
    }
   ],
   "source": [
    "search_btn = driver.find_element_by_xpath(\"//span[@class='ctas-btn-medium']\")\n",
    "search_btn.click()"
   ]
  },
  {
   "cell_type": "code",
   "execution_count": 155,
   "id": "1cc9d06b",
   "metadata": {},
   "outputs": [
    {
     "name": "stderr",
     "output_type": "stream",
     "text": [
      "C:\\Users\\DELLUS~1\\AppData\\Local\\Temp/ipykernel_4640/4017461670.py:1: DeprecationWarning: find_element_by_* commands are deprecated. Please use find_element() instead\n",
      "  loc_btn = driver.find_element_by_xpath(\"//div[@title='Location']\")\n"
     ]
    }
   ],
   "source": [
    "loc_btn = driver.find_element_by_xpath(\"//div[@title='Location']\")\n",
    "loc_btn.click()\n"
   ]
  },
  {
   "cell_type": "code",
   "execution_count": 156,
   "id": "2f4679df",
   "metadata": {},
   "outputs": [
    {
     "name": "stderr",
     "output_type": "stream",
     "text": [
      "C:\\Users\\DELLUS~1\\AppData\\Local\\Temp/ipykernel_4640/335554588.py:1: DeprecationWarning: find_element_by_* commands are deprecated. Please use find_element() instead\n",
      "  search_loc = driver.find_element_by_xpath(\"//input[@placeholder='Search locations']\")\n"
     ]
    }
   ],
   "source": [
    "search_loc = driver.find_element_by_xpath(\"//input[@placeholder='Search locations']\")\n",
    "search_loc.send_keys('Noida')\n"
   ]
  },
  {
   "cell_type": "code",
   "execution_count": 158,
   "id": "50d687ed",
   "metadata": {},
   "outputs": [
    {
     "name": "stderr",
     "output_type": "stream",
     "text": [
      "C:\\Users\\DELLUS~1\\AppData\\Local\\Temp/ipykernel_4640/2466534490.py:1: DeprecationWarning: find_element_by_* commands are deprecated. Please use find_element() instead\n",
      "  select_loc = driver.find_element_by_xpath(\"//label[@for='location_Noida']\")\n"
     ]
    }
   ],
   "source": [
    "select_loc = driver.find_element_by_xpath(\"//label[@for='location_Noida']\")\n",
    "select_loc.click()"
   ]
  },
  {
   "cell_type": "code",
   "execution_count": 195,
   "id": "d8b522f2",
   "metadata": {},
   "outputs": [],
   "source": [
    "compnay_list = []\n",
    "num_days_post = []\n",
    "rating_list = []"
   ]
  },
  {
   "cell_type": "code",
   "execution_count": 196,
   "id": "f6238c3a",
   "metadata": {},
   "outputs": [
    {
     "name": "stderr",
     "output_type": "stream",
     "text": [
      "C:\\Users\\DELLUS~1\\AppData\\Local\\Temp/ipykernel_4640/1933103552.py:1: DeprecationWarning: find_elements_by_* commands are deprecated. Please use find_elements() instead\n",
      "  comp_name=driver.find_elements_by_xpath(\"//p[@class='company body-medium']\")\n",
      "C:\\Users\\DELLUS~1\\AppData\\Local\\Temp/ipykernel_4640/1933103552.py:6: DeprecationWarning: find_elements_by_* commands are deprecated. Please use find_elements() instead\n",
      "  nodays=driver.find_elements_by_xpath(\"//div[@class='other-info']/span[1]\")\n",
      "C:\\Users\\DELLUS~1\\AppData\\Local\\Temp/ipykernel_4640/1933103552.py:11: DeprecationWarning: find_elements_by_* commands are deprecated. Please use find_elements() instead\n",
      "  comp_rat=driver.find_elements_by_xpath(\"//span[@class='body-small']\")\n"
     ]
    }
   ],
   "source": [
    "comp_name=driver.find_elements_by_xpath(\"//p[@class='company body-medium']\")\n",
    "for i in comp_name:\n",
    "    cnmae=i.text\n",
    "    compnay_list.append(cnmae)\n",
    "#compnay_list\n",
    "nodays=driver.find_elements_by_xpath(\"//div[@class='other-info']/span[1]\")\n",
    "for j in nodays:\n",
    "    days=(j.text)\n",
    "    num_days_post.append(days)\n",
    "#num_days_post\n",
    "comp_rat=driver.find_elements_by_xpath(\"//span[@class='body-small']\")\n",
    "for j in comp_rat:\n",
    "    crat=(j.text)\n",
    "    rating_list.append(crat)\n",
    "#rating_list"
   ]
  },
  {
   "cell_type": "code",
   "execution_count": 197,
   "id": "010078da",
   "metadata": {},
   "outputs": [],
   "source": [
    "import pandas as pd\n",
    "ds_job=pd.DataFrame({})\n",
    "ds_job['Company Name']=compnay_list[0:10]\n",
    "ds_job['No. of days ago when job was posted']=num_days_post[0:10]\n",
    "ds_job['Rating of the company']=rating_list[0:10]"
   ]
  },
  {
   "cell_type": "code",
   "execution_count": 198,
   "id": "e6c7ae7b",
   "metadata": {},
   "outputs": [
    {
     "data": {
      "text/html": [
       "<div>\n",
       "<style scoped>\n",
       "    .dataframe tbody tr th:only-of-type {\n",
       "        vertical-align: middle;\n",
       "    }\n",
       "\n",
       "    .dataframe tbody tr th {\n",
       "        vertical-align: top;\n",
       "    }\n",
       "\n",
       "    .dataframe thead th {\n",
       "        text-align: right;\n",
       "    }\n",
       "</style>\n",
       "<table border=\"1\" class=\"dataframe\">\n",
       "  <thead>\n",
       "    <tr style=\"text-align: right;\">\n",
       "      <th></th>\n",
       "      <th>Company Name</th>\n",
       "      <th>No. of days ago when job was posted</th>\n",
       "      <th>Rating of the company</th>\n",
       "    </tr>\n",
       "  </thead>\n",
       "  <tbody>\n",
       "    <tr>\n",
       "      <th>0</th>\n",
       "      <td>LG Electronics India Pvt. Ltd.</td>\n",
       "      <td>9d ago</td>\n",
       "      <td>4.1</td>\n",
       "    </tr>\n",
       "    <tr>\n",
       "      <th>1</th>\n",
       "      <td>GENPACT India Private Limited</td>\n",
       "      <td>16d ago</td>\n",
       "      <td>4.0</td>\n",
       "    </tr>\n",
       "    <tr>\n",
       "      <th>2</th>\n",
       "      <td>GENPACT India Private Limited</td>\n",
       "      <td>16d ago</td>\n",
       "      <td>4.0</td>\n",
       "    </tr>\n",
       "    <tr>\n",
       "      <th>3</th>\n",
       "      <td>NTT Data Business Solutions Pvt Ltd</td>\n",
       "      <td>17d ago</td>\n",
       "      <td>3.8</td>\n",
       "    </tr>\n",
       "    <tr>\n",
       "      <th>4</th>\n",
       "      <td>GENPACT India Private Limited</td>\n",
       "      <td>18d ago</td>\n",
       "      <td>4.0</td>\n",
       "    </tr>\n",
       "    <tr>\n",
       "      <th>5</th>\n",
       "      <td>Paytm</td>\n",
       "      <td>3d ago</td>\n",
       "      <td>3.7</td>\n",
       "    </tr>\n",
       "    <tr>\n",
       "      <th>6</th>\n",
       "      <td>GI Group</td>\n",
       "      <td>2d ago</td>\n",
       "      <td>4.0</td>\n",
       "    </tr>\n",
       "    <tr>\n",
       "      <th>7</th>\n",
       "      <td>GI Group</td>\n",
       "      <td>2d ago</td>\n",
       "      <td>4.0</td>\n",
       "    </tr>\n",
       "    <tr>\n",
       "      <th>8</th>\n",
       "      <td>GI Group</td>\n",
       "      <td>2d ago</td>\n",
       "      <td>4.0</td>\n",
       "    </tr>\n",
       "    <tr>\n",
       "      <th>9</th>\n",
       "      <td>Steria India Ltd</td>\n",
       "      <td>1mon ago</td>\n",
       "      <td>4.1</td>\n",
       "    </tr>\n",
       "  </tbody>\n",
       "</table>\n",
       "</div>"
      ],
      "text/plain": [
       "                          Company Name No. of days ago when job was posted  \\\n",
       "0       LG Electronics India Pvt. Ltd.                              9d ago   \n",
       "1        GENPACT India Private Limited                             16d ago   \n",
       "2        GENPACT India Private Limited                             16d ago   \n",
       "3  NTT Data Business Solutions Pvt Ltd                             17d ago   \n",
       "4        GENPACT India Private Limited                             18d ago   \n",
       "5                                Paytm                              3d ago   \n",
       "6                             GI Group                              2d ago   \n",
       "7                             GI Group                              2d ago   \n",
       "8                             GI Group                              2d ago   \n",
       "9                     Steria India Ltd                            1mon ago   \n",
       "\n",
       "  Rating of the company  \n",
       "0                   4.1  \n",
       "1                   4.0  \n",
       "2                   4.0  \n",
       "3                   3.8  \n",
       "4                   4.0  \n",
       "5                   3.7  \n",
       "6                   4.0  \n",
       "7                   4.0  \n",
       "8                   4.0  \n",
       "9                   4.1  "
      ]
     },
     "execution_count": 198,
     "metadata": {},
     "output_type": "execute_result"
    }
   ],
   "source": [
    "ds_job"
   ]
  },
  {
   "cell_type": "code",
   "execution_count": 199,
   "id": "6f8f925a",
   "metadata": {},
   "outputs": [],
   "source": [
    "driver.close()"
   ]
  },
  {
   "cell_type": "markdown",
   "id": "829625f3",
   "metadata": {},
   "source": [
    "# Q10"
   ]
  },
  {
   "cell_type": "code",
   "execution_count": 200,
   "id": "5fb29cc8",
   "metadata": {},
   "outputs": [],
   "source": [
    "s = Service('D:/Data_Science/chromedriver_win32/chromedriver.exe')\n",
    "driver = webdriver.Chrome(service=s)"
   ]
  },
  {
   "cell_type": "code",
   "execution_count": 201,
   "id": "b3ea466d",
   "metadata": {},
   "outputs": [],
   "source": [
    "#Getting the Webpage\n",
    "driver.get('https://www.ambitionbox.com/')"
   ]
  },
  {
   "cell_type": "code",
   "execution_count": 202,
   "id": "ee6f6a28",
   "metadata": {},
   "outputs": [
    {
     "name": "stderr",
     "output_type": "stream",
     "text": [
      "C:\\Users\\DELLUS~1\\AppData\\Local\\Temp/ipykernel_4640/3168901862.py:1: DeprecationWarning: find_element_by_* commands are deprecated. Please use find_element() instead\n",
      "  sal_otn = driver.find_element_by_xpath(\"//a[@class='link salaries']\")\n"
     ]
    }
   ],
   "source": [
    "sal_otn = driver.find_element_by_xpath(\"//a[@class='link salaries']\")\n",
    "sal_otn.click()"
   ]
  },
  {
   "cell_type": "code",
   "execution_count": 204,
   "id": "a80bd7fa",
   "metadata": {},
   "outputs": [
    {
     "name": "stderr",
     "output_type": "stream",
     "text": [
      "C:\\Users\\DELLUS~1\\AppData\\Local\\Temp/ipykernel_4640/1848348971.py:2: DeprecationWarning: find_element_by_* commands are deprecated. Please use find_element() instead\n",
      "  job_profile = driver.find_element_by_xpath(\"//input[@id='jobProfileSearchbox']\")\n",
      "C:\\Users\\DELLUS~1\\AppData\\Local\\Temp/ipykernel_4640/1848348971.py:4: DeprecationWarning: find_element_by_* commands are deprecated. Please use find_element() instead\n",
      "  job_prof = driver.find_element_by_xpath(\"//p[@class='tt_text']\")\n"
     ]
    }
   ],
   "source": [
    "#Entering the Job Profile\n",
    "job_profile = driver.find_element_by_xpath(\"//input[@id='jobProfileSearchbox']\")\n",
    "job_profile.send_keys('Data Scientist')\n",
    "job_prof = driver.find_element_by_xpath(\"//p[@class='tt_text']\")\n",
    "job_prof.click()"
   ]
  },
  {
   "cell_type": "code",
   "execution_count": 228,
   "id": "6b0da102",
   "metadata": {},
   "outputs": [],
   "source": [
    "compnay_name = []\n",
    "total_salary = []\n",
    "average_salary = []\n",
    "min_salary = []\n",
    "max_salary = []\n",
    "exp_required = []"
   ]
  },
  {
   "cell_type": "code",
   "execution_count": 229,
   "id": "1e3dc4e2",
   "metadata": {},
   "outputs": [
    {
     "name": "stderr",
     "output_type": "stream",
     "text": [
      "C:\\Users\\DELLUS~1\\AppData\\Local\\Temp/ipykernel_4640/3442836597.py:1: DeprecationWarning: find_elements_by_* commands are deprecated. Please use find_elements() instead\n",
      "  compa_name=driver.find_elements_by_xpath(\"//div[@class='name']\")\n",
      "C:\\Users\\DELLUS~1\\AppData\\Local\\Temp/ipykernel_4640/3442836597.py:6: DeprecationWarning: find_elements_by_* commands are deprecated. Please use find_elements() instead\n",
      "  tot_sal=driver.find_elements_by_xpath(\"//div[@class='name']\")\n",
      "C:\\Users\\DELLUS~1\\AppData\\Local\\Temp/ipykernel_4640/3442836597.py:11: DeprecationWarning: find_elements_by_* commands are deprecated. Please use find_elements() instead\n",
      "  avg_sal=driver.find_elements_by_xpath(\"//p[@class='averageCtc']\")\n",
      "C:\\Users\\DELLUS~1\\AppData\\Local\\Temp/ipykernel_4640/3442836597.py:16: DeprecationWarning: find_elements_by_* commands are deprecated. Please use find_elements() instead\n",
      "  min_sal=driver.find_elements_by_xpath(\"//div[@class='salary-values']\")\n",
      "C:\\Users\\DELLUS~1\\AppData\\Local\\Temp/ipykernel_4640/3442836597.py:21: DeprecationWarning: find_elements_by_* commands are deprecated. Please use find_elements() instead\n",
      "  max_sal=driver.find_elements_by_xpath(\"//div[@class='salary-values']\")\n",
      "C:\\Users\\DELLUS~1\\AppData\\Local\\Temp/ipykernel_4640/3442836597.py:26: DeprecationWarning: find_elements_by_* commands are deprecated. Please use find_elements() instead\n",
      "  exp_req=driver.find_elements_by_xpath(\"//div[@class='salaries sbold-list-header']\")\n"
     ]
    }
   ],
   "source": [
    "compa_name=driver.find_elements_by_xpath(\"//div[@class='name']\")\n",
    "for i in compa_name:\n",
    "    comnmae=(i.text.split('\\n')[0])\n",
    "    compnay_name.append(comnmae)\n",
    "#compnay_name\n",
    "tot_sal=driver.find_elements_by_xpath(\"//div[@class='name']\")\n",
    "for i in tot_sal:\n",
    "    tsal=(i.text.split('\\n')[1])\n",
    "    total_salary.append(tsal)\n",
    "#total_salary\n",
    "avg_sal=driver.find_elements_by_xpath(\"//p[@class='averageCtc']\")\n",
    "for i in avg_sal:\n",
    "    asal=i.text\n",
    "    average_salary.append(asal)\n",
    "#average_salary\n",
    "min_sal=driver.find_elements_by_xpath(\"//div[@class='salary-values']\")\n",
    "for i in min_sal:\n",
    "    misal=(i.text.split('\\n')[0])\n",
    "    min_salary.append(misal)\n",
    "#min_salary\n",
    "max_sal=driver.find_elements_by_xpath(\"//div[@class='salary-values']\")\n",
    "for i in max_sal:\n",
    "    masal=(i.text.split('\\n')[1])\n",
    "    max_salary.append(masal)\n",
    "#max_salary\n",
    "exp_req=driver.find_elements_by_xpath(\"//div[@class='salaries sbold-list-header']\")\n",
    "for i in exp_req:\n",
    "    expr=(i.text.split('\\n')[2])\n",
    "    #expr=i.text\n",
    "    exp_required.append(expr)\n",
    "#exp_required"
   ]
  },
  {
   "cell_type": "code",
   "execution_count": 230,
   "id": "85bfa49c",
   "metadata": {},
   "outputs": [],
   "source": [
    "import pandas as pd\n",
    "ds_sal=pd.DataFrame({})\n",
    "ds_sal['company name']=compnay_name[0:10]\n",
    "ds_sal['total salary record']=total_salary[0:10]\n",
    "ds_sal['average salary']=average_salary[0:10]\n",
    "ds_sal['minimum salary']=min_salary[0:10]\n",
    "ds_sal['maximum salary']=max_salary[0:10]\n",
    "ds_sal['experience required']=exp_required[0:10]"
   ]
  },
  {
   "cell_type": "code",
   "execution_count": 231,
   "id": "043c5032",
   "metadata": {},
   "outputs": [
    {
     "data": {
      "text/html": [
       "<div>\n",
       "<style scoped>\n",
       "    .dataframe tbody tr th:only-of-type {\n",
       "        vertical-align: middle;\n",
       "    }\n",
       "\n",
       "    .dataframe tbody tr th {\n",
       "        vertical-align: top;\n",
       "    }\n",
       "\n",
       "    .dataframe thead th {\n",
       "        text-align: right;\n",
       "    }\n",
       "</style>\n",
       "<table border=\"1\" class=\"dataframe\">\n",
       "  <thead>\n",
       "    <tr style=\"text-align: right;\">\n",
       "      <th></th>\n",
       "      <th>company name</th>\n",
       "      <th>total salary record</th>\n",
       "      <th>average salary</th>\n",
       "      <th>minimum salary</th>\n",
       "      <th>maximum salary</th>\n",
       "      <th>experience required</th>\n",
       "    </tr>\n",
       "  </thead>\n",
       "  <tbody>\n",
       "    <tr>\n",
       "      <th>0</th>\n",
       "      <td>Ab Inbev</td>\n",
       "      <td>based on 20 salaries</td>\n",
       "      <td>₹ 19.0L</td>\n",
       "      <td>₹ 15.0L</td>\n",
       "      <td>₹ 23.0L</td>\n",
       "      <td>3-4 yrs exp</td>\n",
       "    </tr>\n",
       "    <tr>\n",
       "      <th>1</th>\n",
       "      <td>ZS</td>\n",
       "      <td>based on 12 salaries</td>\n",
       "      <td>₹ 15.3L</td>\n",
       "      <td>₹ 9.8L</td>\n",
       "      <td>₹ 19.5L</td>\n",
       "      <td>2 yrs exp</td>\n",
       "    </tr>\n",
       "    <tr>\n",
       "      <th>2</th>\n",
       "      <td>Optum</td>\n",
       "      <td>based on 23 salaries</td>\n",
       "      <td>₹ 15.0L</td>\n",
       "      <td>₹ 11.0L</td>\n",
       "      <td>₹ 21.3L</td>\n",
       "      <td>3-4 yrs exp</td>\n",
       "    </tr>\n",
       "    <tr>\n",
       "      <th>3</th>\n",
       "      <td>Fractal Analytics</td>\n",
       "      <td>based on 66 salaries</td>\n",
       "      <td>₹ 15.0L</td>\n",
       "      <td>₹ 9.5L</td>\n",
       "      <td>₹ 22.0L</td>\n",
       "      <td>2-4 yrs exp</td>\n",
       "    </tr>\n",
       "    <tr>\n",
       "      <th>4</th>\n",
       "      <td>UnitedHealth</td>\n",
       "      <td>based on 47 salaries</td>\n",
       "      <td>₹ 13.5L</td>\n",
       "      <td>₹ 7.2L</td>\n",
       "      <td>₹ 20.5L</td>\n",
       "      <td>2-4 yrs exp</td>\n",
       "    </tr>\n",
       "    <tr>\n",
       "      <th>5</th>\n",
       "      <td>Tiger Analytics</td>\n",
       "      <td>based on 26 salaries</td>\n",
       "      <td>₹ 13.5L</td>\n",
       "      <td>₹ 8.3L</td>\n",
       "      <td>₹ 18.5L</td>\n",
       "      <td>3-4 yrs exp</td>\n",
       "    </tr>\n",
       "    <tr>\n",
       "      <th>6</th>\n",
       "      <td>Verizon</td>\n",
       "      <td>based on 14 salaries</td>\n",
       "      <td>₹ 12.7L</td>\n",
       "      <td>₹ 10.0L</td>\n",
       "      <td>₹ 21.0L</td>\n",
       "      <td>4 yrs exp</td>\n",
       "    </tr>\n",
       "    <tr>\n",
       "      <th>7</th>\n",
       "      <td>Ganit Business Solutions</td>\n",
       "      <td>based on 13 salaries</td>\n",
       "      <td>₹ 12.4L</td>\n",
       "      <td>₹ 8.5L</td>\n",
       "      <td>₹ 15.0L</td>\n",
       "      <td>4 yrs exp</td>\n",
       "    </tr>\n",
       "    <tr>\n",
       "      <th>8</th>\n",
       "      <td>Ericsson</td>\n",
       "      <td>based on 42 salaries</td>\n",
       "      <td>₹ 11.7L</td>\n",
       "      <td>₹ 5.2L</td>\n",
       "      <td>₹ 21.5L</td>\n",
       "      <td>3-4 yrs exp</td>\n",
       "    </tr>\n",
       "    <tr>\n",
       "      <th>9</th>\n",
       "      <td>Deloitte</td>\n",
       "      <td>based on 49 salaries</td>\n",
       "      <td>₹ 11.2L</td>\n",
       "      <td>₹ 6.8L</td>\n",
       "      <td>₹ 20.5L</td>\n",
       "      <td>2-4 yrs exp</td>\n",
       "    </tr>\n",
       "  </tbody>\n",
       "</table>\n",
       "</div>"
      ],
      "text/plain": [
       "               company name   total salary record average salary  \\\n",
       "0                  Ab Inbev  based on 20 salaries        ₹ 19.0L   \n",
       "1                        ZS  based on 12 salaries        ₹ 15.3L   \n",
       "2                     Optum  based on 23 salaries        ₹ 15.0L   \n",
       "3         Fractal Analytics  based on 66 salaries        ₹ 15.0L   \n",
       "4              UnitedHealth  based on 47 salaries        ₹ 13.5L   \n",
       "5           Tiger Analytics  based on 26 salaries        ₹ 13.5L   \n",
       "6                   Verizon  based on 14 salaries        ₹ 12.7L   \n",
       "7  Ganit Business Solutions  based on 13 salaries        ₹ 12.4L   \n",
       "8                  Ericsson  based on 42 salaries        ₹ 11.7L   \n",
       "9                  Deloitte  based on 49 salaries        ₹ 11.2L   \n",
       "\n",
       "  minimum salary maximum salary experience required  \n",
       "0        ₹ 15.0L        ₹ 23.0L         3-4 yrs exp  \n",
       "1         ₹ 9.8L        ₹ 19.5L           2 yrs exp  \n",
       "2        ₹ 11.0L        ₹ 21.3L         3-4 yrs exp  \n",
       "3         ₹ 9.5L        ₹ 22.0L         2-4 yrs exp  \n",
       "4         ₹ 7.2L        ₹ 20.5L         2-4 yrs exp  \n",
       "5         ₹ 8.3L        ₹ 18.5L         3-4 yrs exp  \n",
       "6        ₹ 10.0L        ₹ 21.0L           4 yrs exp  \n",
       "7         ₹ 8.5L        ₹ 15.0L           4 yrs exp  \n",
       "8         ₹ 5.2L        ₹ 21.5L         3-4 yrs exp  \n",
       "9         ₹ 6.8L        ₹ 20.5L         2-4 yrs exp  "
      ]
     },
     "execution_count": 231,
     "metadata": {},
     "output_type": "execute_result"
    }
   ],
   "source": [
    "ds_sal"
   ]
  },
  {
   "cell_type": "code",
   "execution_count": 233,
   "id": "267def27",
   "metadata": {},
   "outputs": [],
   "source": [
    "driver.close()"
   ]
  },
  {
   "cell_type": "code",
   "execution_count": null,
   "id": "c551462b",
   "metadata": {},
   "outputs": [],
   "source": []
  }
 ],
 "metadata": {
  "kernelspec": {
   "display_name": "Python 3 (ipykernel)",
   "language": "python",
   "name": "python3"
  },
  "language_info": {
   "codemirror_mode": {
    "name": "ipython",
    "version": 3
   },
   "file_extension": ".py",
   "mimetype": "text/x-python",
   "name": "python",
   "nbconvert_exporter": "python",
   "pygments_lexer": "ipython3",
   "version": "3.8.8"
  }
 },
 "nbformat": 4,
 "nbformat_minor": 5
}
