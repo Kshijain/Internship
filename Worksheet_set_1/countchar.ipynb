{
 "cells": [
  {
   "cell_type": "code",
   "execution_count": 4,
   "id": "d9a632a4",
   "metadata": {},
   "outputs": [
    {
     "name": "stdout",
     "output_type": "stream",
     "text": [
      "Enter the String: GeeksforGeeks\n",
      "Count of all characters in  GeeksforGeeks is :\n",
      "{'G': 2, 'e': 4, 'k': 2, 's': 2, 'f': 1, 'o': 1, 'r': 1}\n"
     ]
    }
   ],
   "source": [
    "my_str = input(\"Enter the String: \")  \n",
    "\n",
    "all_freq = {}\n",
    "  \n",
    "for i in my_str:\n",
    "    if i in all_freq:\n",
    "        all_freq[i] += 1\n",
    "    else:\n",
    "        all_freq[i] = 1\n",
    "        \n",
    "print(\"Count of all characters in \",my_str,\"is :\\n\" +  str(all_freq))"
   ]
  },
  {
   "cell_type": "code",
   "execution_count": null,
   "id": "45fbdae5",
   "metadata": {},
   "outputs": [],
   "source": []
  }
 ],
 "metadata": {
  "kernelspec": {
   "display_name": "Python 3",
   "language": "python",
   "name": "python3"
  },
  "language_info": {
   "codemirror_mode": {
    "name": "ipython",
    "version": 3
   },
   "file_extension": ".py",
   "mimetype": "text/x-python",
   "name": "python",
   "nbconvert_exporter": "python",
   "pygments_lexer": "ipython3",
   "version": "3.8.8"
  }
 },
 "nbformat": 4,
 "nbformat_minor": 5
}
