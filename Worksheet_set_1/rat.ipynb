{
 "cells": [
  {
   "cell_type": "code",
   "execution_count": 1,
   "id": "e7e82dad",
   "metadata": {},
   "outputs": [
    {
     "name": "stdout",
     "output_type": "stream",
     "text": [
      "Input lengths of shorter triangle sides:\n",
      "Enter side1: 3\n",
      "Enter side2: 4\n",
      "The length of the hypotenuse is: 5.0\n"
     ]
    }
   ],
   "source": [
    "print(\"Input lengths of shorter triangle sides:\")\n",
    "side1 = int(input(\"Enter side1: \"))  \n",
    "side2 = int(input(\"Enter side2: \"))  \n",
    "\n",
    "hypo = (((side1 * side1) + (side2 * side2))**(1/2));\n",
    "\n",
    "print(\"The length of the hypotenuse is:\", hypo )"
   ]
  },
  {
   "cell_type": "code",
   "execution_count": null,
   "id": "1c1bb0d4",
   "metadata": {},
   "outputs": [],
   "source": []
  }
 ],
 "metadata": {
  "kernelspec": {
   "display_name": "Python 3",
   "language": "python",
   "name": "python3"
  },
  "language_info": {
   "codemirror_mode": {
    "name": "ipython",
    "version": 3
   },
   "file_extension": ".py",
   "mimetype": "text/x-python",
   "name": "python",
   "nbconvert_exporter": "python",
   "pygments_lexer": "ipython3",
   "version": "3.8.8"
  }
 },
 "nbformat": 4,
 "nbformat_minor": 5
}
